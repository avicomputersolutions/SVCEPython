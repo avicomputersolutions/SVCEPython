{
 "cells": [
  {
   "cell_type": "code",
   "execution_count": 1,
   "metadata": {},
   "outputs": [
    {
     "name": "stdout",
     "output_type": "stream",
     "text": [
      "Hello World\n"
     ]
    }
   ],
   "source": [
    "print(\"Hello World\")"
   ]
  },
  {
   "cell_type": "code",
   "execution_count": null,
   "metadata": {},
   "outputs": [],
   "source": []
  },
  {
   "cell_type": "code",
   "execution_count": 3,
   "metadata": {},
   "outputs": [
    {
     "name": "stdout",
     "output_type": "stream",
     "text": [
      "17\n"
     ]
    }
   ],
   "source": [
    "# sum = a+b\n",
    "a=8\n",
    "b=9\n",
    "sum=0\n",
    "sum=a+b\n",
    "print(sum)"
   ]
  },
  {
   "cell_type": "code",
   "execution_count": 4,
   "metadata": {},
   "outputs": [
    {
     "data": {
      "text/plain": [
       "8"
      ]
     },
     "execution_count": 4,
     "metadata": {},
     "output_type": "execute_result"
    }
   ],
   "source": [
    "# divide / % //\n",
    "# **\n",
    "2 **3"
   ]
  },
  {
   "cell_type": "code",
   "execution_count": null,
   "metadata": {},
   "outputs": [],
   "source": [
    "no= 8\n",
    "rem=no % 2\n",
    "if rem == 0 :\n",
    "    print(\"even\")"
   ]
  },
  {
   "cell_type": "code",
   "execution_count": 2,
   "metadata": {},
   "outputs": [
    {
     "name": "stdout",
     "output_type": "stream",
     "text": [
      "range(1, 11)\n",
      "[1, 8, 27, 64, 125, 216, 343, 512, 729, 1000]\n"
     ]
    }
   ],
   "source": [
    "# List\n",
    "# tuple\n",
    "# dictionary\n",
    "# set\n",
    "power = []\n",
    "n1= 1\n",
    "n2=10\n",
    "\n",
    "# 1 2 3 4 5 6 7 8 9 10\n",
    "x = range(n1,n2+1,1)\n",
    "print(x)\n",
    "\n",
    "for val in x:\n",
    "    p = val ** 3\n",
    "    power.append(p)\n",
    "\n",
    "print(power)"
   ]
  },
  {
   "cell_type": "code",
   "execution_count": 3,
   "metadata": {},
   "outputs": [
    {
     "name": "stdout",
     "output_type": "stream",
     "text": [
      "285\n"
     ]
    }
   ],
   "source": [
    "m =6\n",
    "n= 30\n",
    "sumofdivisible =0\n",
    "sumofnondivisble=0 \n",
    "for val in range(1,n+1,1):\n",
    "    if val % m ==0 :\n",
    "        sumofdivisible += val\n",
    "    else:\n",
    "        sumofnondivisble += val\n",
    "\n",
    "print(sumofnondivisble - sumofdivisible)"
   ]
  },
  {
   "cell_type": "code",
   "execution_count": 7,
   "metadata": {},
   "outputs": [
    {
     "name": "stdout",
     "output_type": "stream",
     "text": [
      "7\n",
      "3\n"
     ]
    }
   ],
   "source": [
    "arr=[3 ,2, 1, 7, 5, 4]\n",
    "# [3]\n",
    "max=arr[0]\n",
    "smax=arr[0]\n",
    "for i in range(1,len(arr)):\n",
    "    if arr[i] > max:\n",
    "        smax= max\n",
    "        max=arr[i]\n",
    "print(max)\n",
    "print(smax)"
   ]
  },
  {
   "cell_type": "code",
   "execution_count": 11,
   "metadata": {},
   "outputs": [
    {
     "data": {
      "text/plain": [
       "4"
      ]
     },
     "execution_count": 11,
     "metadata": {},
     "output_type": "execute_result"
    }
   ],
   "source": [
    "arr=[3 ,2, 1, 7, 5, 4]\n",
    "k=3\n",
    "arr.sort()\n",
    "arr[len(arr)-k]\n",
    "\n"
   ]
  },
  {
   "cell_type": "code",
   "execution_count": null,
   "metadata": {},
   "outputs": [],
   "source": []
  }
 ],
 "metadata": {
  "kernelspec": {
   "display_name": "Python 3",
   "language": "python",
   "name": "python3"
  },
  "language_info": {
   "codemirror_mode": {
    "name": "ipython",
    "version": 3
   },
   "file_extension": ".py",
   "mimetype": "text/x-python",
   "name": "python",
   "nbconvert_exporter": "python",
   "pygments_lexer": "ipython3",
   "version": "3.12.1"
  }
 },
 "nbformat": 4,
 "nbformat_minor": 2
}
