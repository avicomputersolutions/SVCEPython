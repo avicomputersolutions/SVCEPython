{
 "cells": [
  {
   "cell_type": "code",
   "execution_count": null,
   "metadata": {},
   "outputs": [],
   "source": [
    "# Number\n",
    "no1= 20  # Integer\n",
    "no2 = 2.5 # float\n",
    "\n",
    "# String \n",
    "str1= 'A' #character\n",
    "str2 = \"this is a line\" # single line string\n",
    "str3 = \"\"\" \n",
    "Hi Ali,\n",
    "this is a multiline string\n",
    "\"\"\"\n",
    "# complex\n",
    "comp = 2+7j\n",
    "# boolean\n",
    "b = True\n",
    "# list\n",
    "nos = [20,22,21,34]\n",
    "# tuple\n",
    "tup = (20,21,22,33)\n",
    "# dict\n",
    "dic = {\"no1\":21,\"no2\":23,\"no3\":24,\"no4\":20}\n",
    "# set\n",
    "set1={20,22,21,23}\n"
   ]
  },
  {
   "cell_type": "code",
   "execution_count": 1,
   "metadata": {},
   "outputs": [
    {
     "name": "stdout",
     "output_type": "stream",
     "text": [
      "<class 'str'>\n",
      "<class 'int'>\n"
     ]
    }
   ],
   "source": [
    "# TypeCasting\n",
    "\n",
    "no1=\"23\"\n",
    "# type checking\n",
    "print(type(no1))\n",
    "no1 = int(\"23\")\n",
    "print(type(no1))"
   ]
  },
  {
   "cell_type": "code",
   "execution_count": 2,
   "metadata": {},
   "outputs": [
    {
     "data": {
      "text/plain": [
       "int"
      ]
     },
     "execution_count": 2,
     "metadata": {},
     "output_type": "execute_result"
    }
   ],
   "source": [
    "no2= 2.5\n",
    "no2 = int(no2)\n",
    "type(no2)"
   ]
  },
  {
   "cell_type": "markdown",
   "metadata": {},
   "source": [
    "# float() => to float\n",
    "# bool() => to boolean\n",
    "# complex() => to complex\n",
    "# str() => to string\n",
    "# ord() => charcter to ASCII \n",
    "# list() => to list\n",
    "# tuple() => to tuple\n",
    "# dict() => to dictionary\n",
    "# set() => to set"
   ]
  },
  {
   "cell_type": "code",
   "execution_count": 5,
   "metadata": {},
   "outputs": [
    {
     "name": "stdout",
     "output_type": "stream",
     "text": [
      "23\n",
      "<class 'int'>\n"
     ]
    }
   ],
   "source": [
    "# <!-- User defined input -->\n",
    "no1 = int(input(\"Enter a no\"))\n",
    "print(no1)\n",
    "print(type(no1))"
   ]
  },
  {
   "cell_type": "code",
   "execution_count": 6,
   "metadata": {},
   "outputs": [
    {
     "name": "stdout",
     "output_type": "stream",
     "text": [
      "23.0\n"
     ]
    }
   ],
   "source": [
    "no2 = float(input(\"Enter a number\"))\n",
    "print(no2)"
   ]
  },
  {
   "cell_type": "code",
   "execution_count": 7,
   "metadata": {},
   "outputs": [
    {
     "name": "stdout",
     "output_type": "stream",
     "text": [
      "(23+0j)\n"
     ]
    }
   ],
   "source": [
    "no3 = complex(input(\"Enter a number\"))\n",
    "print(no3)"
   ]
  },
  {
   "cell_type": "code",
   "execution_count": 10,
   "metadata": {},
   "outputs": [
    {
     "name": "stdout",
     "output_type": "stream",
     "text": [
      "['1', '1', ' ', '1', '2', ' ', '1', '3', ' ', '1', '4']\n"
     ]
    }
   ],
   "source": [
    "\n",
    "nos= list(input(\"Enter numbers\"))\n",
    "print(nos)"
   ]
  },
  {
   "cell_type": "code",
   "execution_count": 11,
   "metadata": {},
   "outputs": [
    {
     "name": "stdout",
     "output_type": "stream",
     "text": [
      "['12', '13', '14', '15']\n"
     ]
    }
   ],
   "source": [
    "nos = input(\"enter numbers\").split(\",\")\n",
    "print(nos)"
   ]
  },
  {
   "cell_type": "code",
   "execution_count": 12,
   "metadata": {},
   "outputs": [
    {
     "ename": "TypeError",
     "evalue": "'type' object is not iterable",
     "output_type": "error",
     "traceback": [
      "\u001b[0;31m---------------------------------------------------------------------------\u001b[0m",
      "\u001b[0;31mTypeError\u001b[0m                                 Traceback (most recent call last)",
      "\u001b[1;32m/Volumes/Avinash/Python project/SVCEPython/VariablesAndDatatype.ipynb Cell 10\u001b[0m line \u001b[0;36m1\n\u001b[0;32m----> <a href='vscode-notebook-cell:/Volumes/Avinash/Python%20project/SVCEPython/VariablesAndDatatype.ipynb#X14sZmlsZQ%3D%3D?line=0'>1</a>\u001b[0m nos \u001b[39m=\u001b[39m \u001b[39mmap\u001b[39;49m(\u001b[39minput\u001b[39;49m(\u001b[39m\"\u001b[39;49m\u001b[39mEnter number\u001b[39;49m\u001b[39m\"\u001b[39;49m),\u001b[39mint\u001b[39;49m)\n",
      "\u001b[0;31mTypeError\u001b[0m: 'type' object is not iterable"
     ]
    }
   ],
   "source": []
  },
  {
   "cell_type": "code",
   "execution_count": null,
   "metadata": {},
   "outputs": [],
   "source": []
  }
 ],
 "metadata": {
  "kernelspec": {
   "display_name": "Python 3",
   "language": "python",
   "name": "python3"
  },
  "language_info": {
   "codemirror_mode": {
    "name": "ipython",
    "version": 3
   },
   "file_extension": ".py",
   "mimetype": "text/x-python",
   "name": "python",
   "nbconvert_exporter": "python",
   "pygments_lexer": "ipython3",
   "version": "3.12.1"
  }
 },
 "nbformat": 4,
 "nbformat_minor": 2
}
