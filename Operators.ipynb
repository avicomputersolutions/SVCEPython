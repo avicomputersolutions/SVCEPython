{
 "cells": [
  {
   "cell_type": "markdown",
   "metadata": {},
   "source": [
    "# Operators \n",
    "\n",
    "## Airthmatical operators/ Mathematical Operators\n",
    "+  (+) -> Addition\n",
    "+  (-) -> Substraction\n",
    "+  (*) -> Multiply\n",
    "+  (/) -> Floating divide\n",
    "+  (//) -> Integer Division / Floor Division\n",
    "+  (**) -> Power / Exponential\n",
    "+  (%)  -> reminder / Modulus \n",
    "\n",
    "## Comparision / Conditional Operators\n",
    "+  (>) -> Greater than\n",
    "+  (<) -> Less than\n",
    "+  (>=) -> Greater than or Equal to\n",
    "+  (<=) -> Less than or Eqaul to\n",
    "+  (==) -> Eqaul to \n",
    "+  (!=) -> Not Equal\n",
    "\n",
    "## Logical operators\n",
    "+  and  ->  to combine result of two or more conditon\n",
    "+  or   ->  to select one or all  of two or more condition\n",
    "\n",
    "## MemberShip Operators\n",
    "+ in -> check member ship in multi object type \n",
    "+ not in -> check member ship in multi object type\n",
    "\n",
    "## Identity operator\n",
    "+ is -> Equal to \n",
    "+ is not -> not equal to\n",
    "\n",
    "\n",
    "# BitWise operators\n",
    "+   ~ -> Bitwise Not\n",
    "+   & -> Bitwise and\n",
    "+   |  -> Bitwise or\n",
    " "
   ]
  },
  {
   "cell_type": "code",
   "execution_count": 1,
   "metadata": {},
   "outputs": [
    {
     "name": "stdout",
     "output_type": "stream",
     "text": [
      "16\n"
     ]
    }
   ],
   "source": [
    "a= 7\n",
    "b=9\n",
    "sum = a+b\n",
    "print(sum)"
   ]
  },
  {
   "cell_type": "code",
   "execution_count": 2,
   "metadata": {},
   "outputs": [
    {
     "name": "stdout",
     "output_type": "stream",
     "text": [
      "387420489\n"
     ]
    }
   ],
   "source": [
    "a = 9\n",
    "n =9\n",
    "power = a ** n\n",
    "print(power)"
   ]
  },
  {
   "cell_type": "code",
   "execution_count": 3,
   "metadata": {},
   "outputs": [
    {
     "name": "stdout",
     "output_type": "stream",
     "text": [
      "90\n"
     ]
    }
   ],
   "source": [
    "# perimeter of Rectangle = 2 * (l+b)\n",
    "l=23\n",
    "b=22\n",
    "peri = 2 * (l+b)\n",
    "print(peri)\n"
   ]
  },
  {
   "cell_type": "code",
   "execution_count": 4,
   "metadata": {},
   "outputs": [
    {
     "name": "stdout",
     "output_type": "stream",
     "text": [
      "800\n"
     ]
    }
   ],
   "source": [
    "l = 20\n",
    "b=40\n",
    "area = l*b\n",
    "print(area)"
   ]
  },
  {
   "cell_type": "code",
   "execution_count": null,
   "metadata": {},
   "outputs": [],
   "source": []
  }
 ],
 "metadata": {
  "kernelspec": {
   "display_name": "Python 3",
   "language": "python",
   "name": "python3"
  },
  "language_info": {
   "codemirror_mode": {
    "name": "ipython",
    "version": 3
   },
   "file_extension": ".py",
   "mimetype": "text/x-python",
   "name": "python",
   "nbconvert_exporter": "python",
   "pygments_lexer": "ipython3",
   "version": "3.12.1"
  }
 },
 "nbformat": 4,
 "nbformat_minor": 2
}
