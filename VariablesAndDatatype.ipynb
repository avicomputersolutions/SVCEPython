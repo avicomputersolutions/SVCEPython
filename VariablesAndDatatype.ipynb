{
 "cells": [
  {
   "cell_type": "code",
   "execution_count": null,
   "metadata": {},
   "outputs": [],
   "source": [
    "# Number\n",
    "no1= 20  # Integer\n",
    "no2 = 2.5 # float\n",
    "\n",
    "# String \n",
    "str1= 'A' #character\n",
    "str2 = \"this is a line\" # single line string\n",
    "str3 = \"\"\" \n",
    "Hi Ali,\n",
    "this is a multiline string\n",
    "\"\"\"\n",
    "# complex\n",
    "comp = 2+7j\n",
    "# boolean\n",
    "b = True\n",
    "# list\n",
    "nos = [20,22,21,34]\n",
    "# tuple\n",
    "tup = (20,21,22,33)\n",
    "# dict\n",
    "dic = {\"no1\":21,\"no2\":23,\"no3\":24,\"no4\":20}\n",
    "# set\n",
    "set1={20,22,21,23}\n"
   ]
  },
  {
   "cell_type": "code",
   "execution_count": 1,
   "metadata": {},
   "outputs": [
    {
     "name": "stdout",
     "output_type": "stream",
     "text": [
      "<class 'str'>\n",
      "<class 'int'>\n"
     ]
    }
   ],
   "source": [
    "# TypeCasting\n",
    "\n",
    "no1=\"23\"\n",
    "# type checking\n",
    "print(type(no1))\n",
    "no1 = int(\"23\")\n",
    "print(type(no1))"
   ]
  },
  {
   "cell_type": "code",
   "execution_count": 2,
   "metadata": {},
   "outputs": [
    {
     "data": {
      "text/plain": [
       "int"
      ]
     },
     "execution_count": 2,
     "metadata": {},
     "output_type": "execute_result"
    }
   ],
   "source": [
    "no2= 2.5\n",
    "no2 = int(no2)\n",
    "type(no2)"
   ]
  },
  {
   "cell_type": "markdown",
   "metadata": {},
   "source": [
    "# float() => to float\n",
    "# bool() => to boolean\n",
    "# complex() => to complex\n",
    "# str() => to string\n",
    "# ord() => charcter to ASCII \n",
    "# list() => to list\n",
    "# tuple() => to tuple\n",
    "# dict() => to dictionary\n",
    "# set() => to set"
   ]
  },
  {
   "cell_type": "code",
   "execution_count": 5,
   "metadata": {},
   "outputs": [
    {
     "name": "stdout",
     "output_type": "stream",
     "text": [
      "23\n",
      "<class 'int'>\n"
     ]
    }
   ],
   "source": [
    "# <!-- User defined input -->\n",
    "no1 = int(input(\"Enter a no\"))\n",
    "print(no1)\n",
    "print(type(no1))"
   ]
  },
  {
   "cell_type": "code",
   "execution_count": 1,
   "metadata": {},
   "outputs": [
    {
     "name": "stdout",
     "output_type": "stream",
     "text": [
      "23.0\n"
     ]
    }
   ],
   "source": [
    "no2 = float(input(\"Enter a number\"))\n",
    "print(no2)"
   ]
  },
  {
   "cell_type": "code",
   "execution_count": 2,
   "metadata": {},
   "outputs": [
    {
     "name": "stdout",
     "output_type": "stream",
     "text": [
      "(23+0j)\n"
     ]
    }
   ],
   "source": [
    "no3 = complex(input(\"Enter a number\"))\n",
    "print(no3)"
   ]
  },
  {
   "cell_type": "code",
   "execution_count": 3,
   "metadata": {},
   "outputs": [
    {
     "name": "stdout",
     "output_type": "stream",
     "text": [
      "['1', '2']\n"
     ]
    }
   ],
   "source": [
    "\n",
    "nos= list(input(\"Enter numbers\"))\n",
    "print(nos)"
   ]
  },
  {
   "cell_type": "code",
   "execution_count": 4,
   "metadata": {},
   "outputs": [
    {
     "name": "stdout",
     "output_type": "stream",
     "text": [
      "['11', '12', '13', '14']\n"
     ]
    }
   ],
   "source": [
    "nos = input(\"enter numbers\").split(\",\")\n",
    "print(nos)"
   ]
  },
  {
   "cell_type": "code",
   "execution_count": 5,
   "metadata": {},
   "outputs": [
    {
     "name": "stdout",
     "output_type": "stream",
     "text": [
      "('11', '12', '13', '14')\n"
     ]
    }
   ],
   "source": [
    "nos = tuple(input(\"Enter number \").split(\",\"))\n",
    "print(nos)"
   ]
  },
  {
   "cell_type": "code",
   "execution_count": 6,
   "metadata": {},
   "outputs": [
    {
     "name": "stdout",
     "output_type": "stream",
     "text": [
      "{'12', '13', '11', '14'}\n"
     ]
    }
   ],
   "source": [
    "nos = set(input(\"Enter number \").split(\",\"))\n",
    "print(nos)"
   ]
  },
  {
   "cell_type": "code",
   "execution_count": 7,
   "metadata": {},
   "outputs": [
    {
     "name": "stdout",
     "output_type": "stream",
     "text": [
      "21\n"
     ]
    }
   ],
   "source": [
    "no1 = int(input(\"Enter A number\"))\n",
    "no2 = int(input(\"Enter Second number\"))\n",
    "Sum = no1 + no2\n",
    "print(Sum)"
   ]
  },
  {
   "cell_type": "code",
   "execution_count": 2,
   "metadata": {},
   "outputs": [
    {
     "name": "stdout",
     "output_type": "stream",
     "text": [
      "Area of Circle =  154.0\n"
     ]
    }
   ],
   "source": [
    "# Area Calculator  of Circle\n",
    "pi= 22/7\n",
    "rad = float(input(\"Enter Radius\"))\n",
    "area = pi * rad ** 2\n",
    "print(\"Area of Circle = \",area)\n"
   ]
  },
  {
   "cell_type": "code",
   "execution_count": 4,
   "metadata": {},
   "outputs": [
    {
     "name": "stdout",
     "output_type": "stream",
     "text": [
      "Area of Reactangle of length 30.0 meter and breadth 20.0 meter\n",
      "Area  =  600.0\n"
     ]
    }
   ],
   "source": [
    "# Area of Reactangle \n",
    "l = float(input(\"enter length\"))\n",
    "b = float(input(\"Enter Breadth\"))\n",
    "area = l * b\n",
    "print(f\"Area of Reactangle of length {l} meter and breadth {b} meter\")\n",
    "print(\"Area  = \", area)"
   ]
  },
  {
   "cell_type": "code",
   "execution_count": 7,
   "metadata": {},
   "outputs": [
    {
     "name": "stdout",
     "output_type": "stream",
     "text": [
      "Square root of 8\n",
      "2.83\n"
     ]
    }
   ],
   "source": [
    "# Square Root \n",
    "sq = int(input(\"Enter  Value for which you want to calculate sqroot\"))\n",
    "sqroot = sq ** (1/2)\n",
    "print(f\"Square root of {sq}\")\n",
    "print(round(sqroot,2))"
   ]
  },
  {
   "cell_type": "code",
   "execution_count": 9,
   "metadata": {},
   "outputs": [
    {
     "name": "stdout",
     "output_type": "stream",
     "text": [
      "18.0\n"
     ]
    }
   ],
   "source": [
    "no1 = int(input(\"Enter no1\"))\n",
    "no2 = int(input(\"Enter no2\"))\n",
    "no3 = int(input(\"Enter no3\"))\n",
    "no4 = int(input(\"Enter no4\"))\n",
    "\n",
    "Sum = no1 + no2 + no3 + no4\n",
    "mean = Sum / 4\n",
    "print(mean)"
   ]
  },
  {
   "cell_type": "code",
   "execution_count": 1,
   "metadata": {},
   "outputs": [
    {
     "name": "stdout",
     "output_type": "stream",
     "text": [
      "98.0\n"
     ]
    }
   ],
   "source": [
    "test_acc= 0.983000925\n",
    "print(round((test_acc * 100),0))"
   ]
  },
  {
   "cell_type": "code",
   "execution_count": 2,
   "metadata": {},
   "outputs": [
    {
     "name": "stdout",
     "output_type": "stream",
     "text": [
      "A\n"
     ]
    }
   ],
   "source": [
    "i=1\n",
    "print(chr(i+64))"
   ]
  },
  {
   "cell_type": "markdown",
   "metadata": {},
   "source": [
    "# Operators \n",
    "\n",
    "## Airthmatical operators/ Mathematical Operators\n",
    "+  (+) -> Addition\n",
    "+  (-) -> Substraction\n",
    "+  (*) -> Multiply\n",
    "+  (/) -> Floating divide\n",
    "+  (//) -> Integer Division / Floor Division\n",
    "+  (**) -> Power / Exponential\n",
    "+  (%)  -> reminder / Modulus \n",
    "\n",
    "## Comparision / Conditional Operators\n",
    "+  (>) -> Greater than\n",
    "+  (<) -> Less than\n",
    "+  (>=) -> Greater than or Equal to\n",
    "+  (<=) -> Less than or Eqaul to\n",
    "+  (==) -> Eqaul to \n",
    "+  (!=) -> Not Equal\n",
    "\n",
    "## Logical operators\n",
    "+  and  ->  to combine result of two or more conditon\n",
    "+  or   ->  to select one or all  of two or more condition\n",
    "\n",
    "## MemberShip Operators\n",
    "+ in -> check member ship in multi object type \n",
    "+ not in -> check member ship in multi object type\n",
    "\n",
    "## Identity operator\n",
    "+ is -> Equal to \n",
    "+ is not -> not equal to\n",
    "\n",
    "\n",
    "# BitWise operators\n",
    "+   ~ -> Bitwise Not\n",
    "+   & -> Bitwise and\n",
    "+   |  -> Bitwise or\n",
    " "
   ]
  },
  {
   "cell_type": "markdown",
   "metadata": {},
   "source": []
  },
  {
   "cell_type": "code",
   "execution_count": 3,
   "metadata": {},
   "outputs": [
    {
     "name": "stdout",
     "output_type": "stream",
     "text": [
      "negative no\n"
     ]
    }
   ],
   "source": [
    "# public class postive{\n",
    "#     public static  void  main(String[] arg){\n",
    "#             int a =7;\n",
    "#             if( a> 0){\n",
    "#                 System.out.println(\"postive\");\n",
    "#             }\n",
    "#             else{ \n",
    "#                 System.out.println(\"Negative\");\n",
    "#             }\n",
    "#     }\n",
    "#  }\n",
    "\n",
    "# postive No :\n",
    "#     A positive is \n",
    "\n",
    "# Negative  :\n",
    "#     A negative\n",
    "no = int(input(\"Enter a Number\"))\n",
    "if no > 0 :\n",
    "    print(\"postive no\")\n",
    "else :\n",
    "    print(\"negative no\")"
   ]
  },
  {
   "cell_type": "code",
   "execution_count": 4,
   "metadata": {},
   "outputs": [
    {
     "name": "stdout",
     "output_type": "stream",
     "text": [
      "odd\n"
     ]
    }
   ],
   "source": [
    "no = int(input(\"Enter a Number\"))\n",
    "\n",
    "if no % 2 == 0:  \n",
    "    print(\"Even\")\n",
    "else :\n",
    "    print(\"odd\")"
   ]
  },
  {
   "cell_type": "code",
   "execution_count": 5,
   "metadata": {},
   "outputs": [
    {
     "name": "stdout",
     "output_type": "stream",
     "text": [
      "Bill =  2000\n"
     ]
    }
   ],
   "source": [
    "unit = int(input(\"Enter Unit \"))\n",
    "bill = 0\n",
    "\n",
    "if unit <=100 :\n",
    "    bill =0\n",
    "elif unit > 100  and unit <=200 :\n",
    "    bill = 0 + 5 * (unit -100)\n",
    "else:\n",
    "    bill = 0 + 500 + 10 * (unit -200)\n",
    "\n",
    "\n",
    "print(\"Bill = \", bill)"
   ]
  },
  {
   "cell_type": "code",
   "execution_count": 6,
   "metadata": {},
   "outputs": [
    {
     "name": "stdout",
     "output_type": "stream",
     "text": [
      "7\n"
     ]
    }
   ],
   "source": [
    "no = int(input(\"Enter a no\"))\n",
    "last = no % 10\n",
    "print(last)"
   ]
  },
  {
   "cell_type": "code",
   "execution_count": 11,
   "metadata": {},
   "outputs": [
    {
     "name": "stdout",
     "output_type": "stream",
     "text": [
      " Not a leap year\n"
     ]
    }
   ],
   "source": [
    "year = int(input(\"Enter Year\"))\n",
    "if (year % 100 ==0 and year % 400 ==0) or year % 4 ==0 :\n",
    "    print(\"Leap year\")\n",
    "\n",
    "else: \n",
    "    print(\" Not a leap year\")"
   ]
  },
  {
   "cell_type": "code",
   "execution_count": 3,
   "metadata": {},
   "outputs": [
    {
     "name": "stdout",
     "output_type": "stream",
     "text": [
      "A \n",
      "B C \n",
      "C D E \n",
      "D E F G \n",
      "E F G H I \n"
     ]
    }
   ],
   "source": [
    "n =5 \n",
    "row = range(1,n+1)\n",
    "for i in row:\n",
    "    for col in range(i,2*i):\n",
    "        print(chr(col+64),end=\" \")\n",
    "    print()"
   ]
  },
  {
   "cell_type": "code",
   "execution_count": 5,
   "metadata": {},
   "outputs": [
    {
     "name": "stdout",
     "output_type": "stream",
     "text": [
      "5 4 3 2 1 \n",
      "4 3 2 1 \n",
      "3 2 1 \n",
      "2 1 \n",
      "1 \n"
     ]
    }
   ],
   "source": [
    "n =5 \n",
    "row = range(1,n+1)\n",
    "for i in row:\n",
    "    for col in range(n-i+1,0,-1):\n",
    "        print(col,end=\" \")\n",
    "    print()"
   ]
  },
  {
   "cell_type": "code",
   "execution_count": 6,
   "metadata": {},
   "outputs": [
    {
     "name": "stdout",
     "output_type": "stream",
     "text": [
      "5 4 3 2 1 \n",
      "4 3 2 1 \n",
      "3 2 1 \n",
      "2 1 \n",
      "1 \n"
     ]
    }
   ],
   "source": [
    "n =5 \n",
    "\n",
    "for i in range(1,n+1):\n",
    "    for col in range(n-i+1,0,-1):\n",
    "        print(col,end=\" \")\n",
    "    print()"
   ]
  },
  {
   "cell_type": "code",
   "execution_count": 7,
   "metadata": {},
   "outputs": [
    {
     "name": "stdout",
     "output_type": "stream",
     "text": [
      "5 6 7 8 9 \n",
      "4 5 6 7 \n",
      "3 4 5 \n",
      "2 3 \n",
      "1 \n"
     ]
    }
   ],
   "source": [
    "n =5 \n",
    "\n",
    "for i in range(1,n+1):\n",
    "    for col in range(n-i+1,2*(n-i+1)):\n",
    "        print(col,end=\" \")\n",
    "    print()"
   ]
  },
  {
   "cell_type": "code",
   "execution_count": 8,
   "metadata": {},
   "outputs": [
    {
     "name": "stdout",
     "output_type": "stream",
     "text": [
      "1 2 3 4 5 \n",
      "2 3 4 5 \n",
      "3 4 5 \n",
      "4 5 \n",
      "5 \n"
     ]
    }
   ],
   "source": [
    "n =5 \n",
    "\n",
    "for i in range(1,n+1):\n",
    "    for col in range(i,n+1):\n",
    "        print(col,end=\" \")\n",
    "    print()"
   ]
  },
  {
   "cell_type": "code",
   "execution_count": 9,
   "metadata": {},
   "outputs": [
    {
     "name": "stdout",
     "output_type": "stream",
     "text": [
      "5 \n",
      "4 5 \n",
      "3 4 5 \n",
      "2 3 4 5 \n",
      "1 2 3 4 5 \n"
     ]
    }
   ],
   "source": [
    "n =5 \n",
    "\n",
    "for i in range(1,n+1):\n",
    "    for col in range(n-i+1,n+1):\n",
    "        print(col,end=\" \")\n",
    "    print()"
   ]
  },
  {
   "cell_type": "code",
   "execution_count": 12,
   "metadata": {},
   "outputs": [
    {
     "name": "stdout",
     "output_type": "stream",
     "text": [
      "5 \n",
      "5 4 \n",
      "5 4 3 \n",
      "5 4 3 2 \n",
      "5 4 3 2 1 \n"
     ]
    }
   ],
   "source": [
    "n =5 \n",
    "\n",
    "for i in range(1,n+1):\n",
    "    for col in range(n,n-i,-1):\n",
    "        print(col,end=\" \")\n",
    "    print()"
   ]
  },
  {
   "cell_type": "code",
   "execution_count": 13,
   "metadata": {},
   "outputs": [
    {
     "name": "stdout",
     "output_type": "stream",
     "text": [
      "5 4 3 2 1 \n",
      "5 4 3 2 \n",
      "5 4 3 \n",
      "5 4 \n",
      "5 \n"
     ]
    }
   ],
   "source": [
    "n =5 \n",
    "\n",
    "for i in range(1,n+1):\n",
    "    for col in range(n,i-1,-1):\n",
    "        print(col,end=\" \")\n",
    "    print()"
   ]
  },
  {
   "cell_type": "code",
   "execution_count": 15,
   "metadata": {},
   "outputs": [
    {
     "name": "stdout",
     "output_type": "stream",
     "text": [
      "1 \n",
      "1 2 3 \n",
      "1 2 3 4 5 \n",
      "1 2 3 4 5 6 7 \n",
      "1 2 3 4 5 6 7 8 9 \n",
      "1 2 3 4 5 6 7 8 9 10 11 \n",
      "1 2 3 4 5 6 7 8 9 10 11 12 13 \n",
      "1 2 3 4 5 6 7 8 9 10 11 12 13 14 15 \n",
      "1 2 3 4 5 6 7 8 9 10 11 12 13 14 15 16 17 \n"
     ]
    }
   ],
   "source": [
    "n =9\n",
    " \n",
    "\n",
    "for i in range(1,n+1):\n",
    "    for col in range(1,2*i):\n",
    "        print(col,end=\" \")\n",
    "    print()"
   ]
  },
  {
   "cell_type": "code",
   "execution_count": 20,
   "metadata": {},
   "outputs": [
    {
     "name": "stdout",
     "output_type": "stream",
     "text": [
      "1 \n",
      "2 3 \n",
      "4 5 6 \n",
      "7 8 9 10 \n",
      "11 12 13 14 15 \n"
     ]
    }
   ],
   "source": [
    "n=5\n",
    "no=1\n",
    "for i in range(1,n+1):\n",
    "    for col in range(1,i+1):\n",
    "        print(no,end=\" \")\n",
    "        no +=1\n",
    "    print()"
   ]
  },
  {
   "cell_type": "code",
   "execution_count": 21,
   "metadata": {},
   "outputs": [
    {
     "name": "stdout",
     "output_type": "stream",
     "text": [
      "1 \n",
      "0 0 \n",
      "1 1 1 \n",
      "0 0 0 0 \n",
      "1 1 1 1 1 \n"
     ]
    }
   ],
   "source": [
    "n=5\n",
    "no=1\n",
    "for i in range(1,n+1):\n",
    "    for col in range(1,i+1):\n",
    "       if i % 2 ==0:\n",
    "           print(0,end=\" \")\n",
    "       else:\n",
    "           print(1,end=\" \")\n",
    "    print()"
   ]
  },
  {
   "cell_type": "code",
   "execution_count": 24,
   "metadata": {},
   "outputs": [
    {
     "name": "stdout",
     "output_type": "stream",
     "text": [
      "* * * * * \n",
      "*       * \n",
      "*       * \n",
      "*       * \n",
      "* * * * * \n"
     ]
    }
   ],
   "source": [
    "n =5 \n",
    "\n",
    "for i in range(1,n+1):\n",
    "    for col in range(1,n+1):\n",
    "        if i==1 or i==n or col==1 or col==n:\n",
    "            print(\"*\",end=\" \")\n",
    "        else: \n",
    "            print(\" \",end=\" \")\n",
    "    print()"
   ]
  },
  {
   "cell_type": "code",
   "execution_count": 25,
   "metadata": {},
   "outputs": [
    {
     "name": "stdout",
     "output_type": "stream",
     "text": [
      "* * * * * \n",
      "*         \n",
      "*         \n",
      "*         \n",
      "* * * * * \n"
     ]
    }
   ],
   "source": [
    "n =5 \n",
    "\n",
    "for i in range(1,n+1):\n",
    "    for col in range(1,n+1):\n",
    "        if i==1 or i==n or col==1 :\n",
    "            print(\"*\",end=\" \")\n",
    "        else: \n",
    "            print(\" \",end=\" \")\n",
    "    print()"
   ]
  },
  {
   "cell_type": "code",
   "execution_count": 26,
   "metadata": {},
   "outputs": [
    {
     "name": "stdout",
     "output_type": "stream",
     "text": [
      "*       * \n",
      "*       * \n",
      "*       * \n",
      "*       * \n",
      "* * * * * \n"
     ]
    }
   ],
   "source": [
    "\n",
    "for i in range(1,n+1):\n",
    "    for col in range(1,n+1):\n",
    "        if   i==n or col==1 or col==n:\n",
    "            print(\"*\",end=\" \")\n",
    "        else: \n",
    "            print(\" \",end=\" \")\n",
    "    print()"
   ]
  },
  {
   "cell_type": "code",
   "execution_count": 27,
   "metadata": {},
   "outputs": [
    {
     "name": "stdout",
     "output_type": "stream",
     "text": [
      "* * * * * \n",
      "        * \n",
      "        * \n",
      "        * \n",
      "* * * * * \n"
     ]
    }
   ],
   "source": [
    "\n",
    "for i in range(1,n+1):\n",
    "    for col in range(1,n+1):\n",
    "        if  i==1 or  i==n  or col==n:\n",
    "            print(\"*\",end=\" \")\n",
    "        else: \n",
    "            print(\" \",end=\" \")\n",
    "    print()"
   ]
  },
  {
   "cell_type": "code",
   "execution_count": 30,
   "metadata": {},
   "outputs": [
    {
     "name": "stdout",
     "output_type": "stream",
     "text": [
      "* * * * * \n",
      "*       * \n",
      "* * * * * \n",
      "*       * \n",
      "*       * \n"
     ]
    }
   ],
   "source": [
    "\n",
    "for i in range(1,n+1):\n",
    "    for col in range(1,n+1):\n",
    "        if   i==1 or col==1 or col==n or i == n//2+1:\n",
    "            print(\"*\",end=\" \")\n",
    "        else: \n",
    "            print(\" \",end=\" \")\n",
    "    print()"
   ]
  },
  {
   "cell_type": "code",
   "execution_count": null,
   "metadata": {},
   "outputs": [],
   "source": []
  }
 ],
 "metadata": {
  "kernelspec": {
   "display_name": "Python 3",
   "language": "python",
   "name": "python3"
  },
  "language_info": {
   "codemirror_mode": {
    "name": "ipython",
    "version": 3
   },
   "file_extension": ".py",
   "mimetype": "text/x-python",
   "name": "python",
   "nbconvert_exporter": "python",
   "pygments_lexer": "ipython3",
   "version": "3.12.1"
  }
 },
 "nbformat": 4,
 "nbformat_minor": 2
}
