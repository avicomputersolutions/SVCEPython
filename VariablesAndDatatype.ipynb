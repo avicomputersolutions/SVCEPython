{
 "cells": [
  {
   "cell_type": "code",
   "execution_count": null,
   "metadata": {},
   "outputs": [],
   "source": [
    "# Number\n",
    "no1= 20  # Integer\n",
    "no2 = 2.5 # float\n",
    "\n",
    "# String \n",
    "str1= 'A' #character\n",
    "str2 = \"this is a line\" # single line string\n",
    "str3 = \"\"\" \n",
    "Hi Ali,\n",
    "this is a multiline string\n",
    "\"\"\"\n",
    "# complex\n",
    "comp = 2+7j\n",
    "# boolean\n",
    "b = True\n",
    "# list\n",
    "nos = [20,22,21,34]\n",
    "# tuple\n",
    "tup = (20,21,22,33)\n",
    "# dict\n",
    "dic = {\"no1\":21,\"no2\":23,\"no3\":24,\"no4\":20}\n",
    "# set\n",
    "set1={20,22,21,23}\n"
   ]
  },
  {
   "cell_type": "code",
   "execution_count": 1,
   "metadata": {},
   "outputs": [
    {
     "name": "stdout",
     "output_type": "stream",
     "text": [
      "<class 'str'>\n",
      "<class 'int'>\n"
     ]
    }
   ],
   "source": [
    "# TypeCasting\n",
    "\n",
    "no1=\"23\"\n",
    "# type checking\n",
    "print(type(no1))\n",
    "no1 = int(\"23\")\n",
    "print(type(no1))"
   ]
  },
  {
   "cell_type": "code",
   "execution_count": 2,
   "metadata": {},
   "outputs": [
    {
     "data": {
      "text/plain": [
       "int"
      ]
     },
     "execution_count": 2,
     "metadata": {},
     "output_type": "execute_result"
    }
   ],
   "source": [
    "no2= 2.5\n",
    "no2 = int(no2)\n",
    "type(no2)"
   ]
  },
  {
   "cell_type": "markdown",
   "metadata": {},
   "source": [
    "# float() => to float\n",
    "# bool() => to boolean\n",
    "# complex() => to complex\n",
    "# str() => to string\n",
    "# ord() => charcter to ASCII \n",
    "# list() => to list\n",
    "# tuple() => to tuple\n",
    "# dict() => to dictionary\n",
    "# set() => to set"
   ]
  },
  {
   "cell_type": "code",
   "execution_count": 5,
   "metadata": {},
   "outputs": [
    {
     "name": "stdout",
     "output_type": "stream",
     "text": [
      "23\n",
      "<class 'int'>\n"
     ]
    }
   ],
   "source": [
    "# <!-- User defined input -->\n",
    "no1 = int(input(\"Enter a no\"))\n",
    "print(no1)\n",
    "print(type(no1))"
   ]
  },
  {
   "cell_type": "code",
   "execution_count": 1,
   "metadata": {},
   "outputs": [
    {
     "name": "stdout",
     "output_type": "stream",
     "text": [
      "23.0\n"
     ]
    }
   ],
   "source": [
    "no2 = float(input(\"Enter a number\"))\n",
    "print(no2)"
   ]
  },
  {
   "cell_type": "code",
   "execution_count": 2,
   "metadata": {},
   "outputs": [
    {
     "name": "stdout",
     "output_type": "stream",
     "text": [
      "(23+0j)\n"
     ]
    }
   ],
   "source": [
    "no3 = complex(input(\"Enter a number\"))\n",
    "print(no3)"
   ]
  },
  {
   "cell_type": "code",
   "execution_count": 3,
   "metadata": {},
   "outputs": [
    {
     "name": "stdout",
     "output_type": "stream",
     "text": [
      "['1', '2']\n"
     ]
    }
   ],
   "source": [
    "\n",
    "nos= list(input(\"Enter numbers\"))\n",
    "print(nos)"
   ]
  },
  {
   "cell_type": "code",
   "execution_count": 4,
   "metadata": {},
   "outputs": [
    {
     "name": "stdout",
     "output_type": "stream",
     "text": [
      "['11', '12', '13', '14']\n"
     ]
    }
   ],
   "source": [
    "nos = input(\"enter numbers\").split(\",\")\n",
    "print(nos)"
   ]
  },
  {
   "cell_type": "code",
   "execution_count": 5,
   "metadata": {},
   "outputs": [
    {
     "name": "stdout",
     "output_type": "stream",
     "text": [
      "('11', '12', '13', '14')\n"
     ]
    }
   ],
   "source": [
    "nos = tuple(input(\"Enter number \").split(\",\"))\n",
    "print(nos)"
   ]
  },
  {
   "cell_type": "code",
   "execution_count": 6,
   "metadata": {},
   "outputs": [
    {
     "name": "stdout",
     "output_type": "stream",
     "text": [
      "{'12', '13', '11', '14'}\n"
     ]
    }
   ],
   "source": [
    "nos = set(input(\"Enter number \").split(\",\"))\n",
    "print(nos)"
   ]
  },
  {
   "cell_type": "code",
   "execution_count": 7,
   "metadata": {},
   "outputs": [
    {
     "name": "stdout",
     "output_type": "stream",
     "text": [
      "21\n"
     ]
    }
   ],
   "source": [
    "no1 = int(input(\"Enter A number\"))\n",
    "no2 = int(input(\"Enter Second number\"))\n",
    "Sum = no1 + no2\n",
    "print(Sum)"
   ]
  },
  {
   "cell_type": "code",
   "execution_count": 2,
   "metadata": {},
   "outputs": [
    {
     "name": "stdout",
     "output_type": "stream",
     "text": [
      "Area of Circle =  154.0\n"
     ]
    }
   ],
   "source": [
    "# Area Calculator  of Circle\n",
    "pi= 22/7\n",
    "rad = float(input(\"Enter Radius\"))\n",
    "area = pi * rad ** 2\n",
    "print(\"Area of Circle = \",area)\n"
   ]
  },
  {
   "cell_type": "code",
   "execution_count": 4,
   "metadata": {},
   "outputs": [
    {
     "name": "stdout",
     "output_type": "stream",
     "text": [
      "Area of Reactangle of length 30.0 meter and breadth 20.0 meter\n",
      "Area  =  600.0\n"
     ]
    }
   ],
   "source": [
    "# Area of Reactangle \n",
    "l = float(input(\"enter length\"))\n",
    "b = float(input(\"Enter Breadth\"))\n",
    "area = l * b\n",
    "print(f\"Area of Reactangle of length {l} meter and breadth {b} meter\")\n",
    "print(\"Area  = \", area)"
   ]
  },
  {
   "cell_type": "code",
   "execution_count": 7,
   "metadata": {},
   "outputs": [
    {
     "name": "stdout",
     "output_type": "stream",
     "text": [
      "Square root of 8\n",
      "2.83\n"
     ]
    }
   ],
   "source": [
    "# Square Root \n",
    "sq = int(input(\"Enter  Value for which you want to calculate sqroot\"))\n",
    "sqroot = sq ** (1/2)\n",
    "print(f\"Square root of {sq}\")\n",
    "print(round(sqroot,2))"
   ]
  },
  {
   "cell_type": "code",
   "execution_count": 9,
   "metadata": {},
   "outputs": [
    {
     "name": "stdout",
     "output_type": "stream",
     "text": [
      "18.0\n"
     ]
    }
   ],
   "source": [
    "no1 = int(input(\"Enter no1\"))\n",
    "no2 = int(input(\"Enter no2\"))\n",
    "no3 = int(input(\"Enter no3\"))\n",
    "no4 = int(input(\"Enter no4\"))\n",
    "Sum = no1 + no2 + no3 + no4\n",
    "mean = Sum / 4\n",
    "print(mean)"
   ]
  },
  {
   "cell_type": "code",
   "execution_count": null,
   "metadata": {},
   "outputs": [],
   "source": [
    "()"
   ]
  }
 ],
 "metadata": {
  "kernelspec": {
   "display_name": "Python 3",
   "language": "python",
   "name": "python3"
  },
  "language_info": {
   "codemirror_mode": {
    "name": "ipython",
    "version": 3
   },
   "file_extension": ".py",
   "mimetype": "text/x-python",
   "name": "python",
   "nbconvert_exporter": "python",
   "pygments_lexer": "ipython3",
   "version": "3.12.1"
  }
 },
 "nbformat": 4,
 "nbformat_minor": 2
}
