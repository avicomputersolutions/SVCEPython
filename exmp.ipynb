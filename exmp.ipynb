{
 "cells": [
  {
   "cell_type": "code",
   "execution_count": null,
   "metadata": {},
   "outputs": [],
   "source": [
    "# # x= range(start,end,diff)\n",
    "# start = 1\n",
    "\n",
    "# while(start < end):\n",
    "#     print(start)\n",
    "\n",
    "#     start += diff\n",
    "\n",
    "start =1\n",
    "while(start <= 10):\n",
    "    print(start)\n",
    "\n",
    "    start += 1\n"
   ]
  },
  {
   "cell_type": "code",
   "execution_count": null,
   "metadata": {},
   "outputs": [],
   "source": [
    "start =2 \n",
    "n=10\n",
    "while ( start <= 2*n):\n",
    "    print(start)\n",
    "\n",
    "    start +=2"
   ]
  },
  {
   "cell_type": "code",
   "execution_count": null,
   "metadata": {},
   "outputs": [],
   "source": [
    "start =1 \n",
    "n=10\n",
    "while ( start < 2*n):\n",
    "    print(start)\n",
    "\n",
    "    start +=2"
   ]
  },
  {
   "cell_type": "code",
   "execution_count": null,
   "metadata": {},
   "outputs": [],
   "source": [
    "no = 4\n",
    "\n",
    "start=1\n",
    "while(start<=10):\n",
    "    print(f\"{no} * {start} = {no* start}\")\n",
    "\n",
    "    start +=1"
   ]
  },
  {
   "cell_type": "code",
   "execution_count": null,
   "metadata": {},
   "outputs": [],
   "source": []
  }
 ],
 "metadata": {
  "kernelspec": {
   "display_name": "Python 3",
   "language": "python",
   "name": "python3"
  },
  "language_info": {
   "codemirror_mode": {
    "name": "ipython",
    "version": 3
   },
   "file_extension": ".py",
   "mimetype": "text/x-python",
   "name": "python",
   "nbconvert_exporter": "python",
   "pygments_lexer": "ipython3",
   "version": "3.12.1"
  }
 },
 "nbformat": 4,
 "nbformat_minor": 2
}
