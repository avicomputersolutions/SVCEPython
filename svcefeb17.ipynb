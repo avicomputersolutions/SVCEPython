{
 "cells": [
  {
   "cell_type": "code",
   "execution_count": 1,
   "metadata": {},
   "outputs": [
    {
     "name": "stdout",
     "output_type": "stream",
     "text": [
      "Hello World\n"
     ]
    }
   ],
   "source": [
    "print(\"Hello World\")"
   ]
  },
  {
   "cell_type": "code",
   "execution_count": null,
   "metadata": {},
   "outputs": [],
   "source": []
  },
  {
   "cell_type": "code",
   "execution_count": 3,
   "metadata": {},
   "outputs": [
    {
     "name": "stdout",
     "output_type": "stream",
     "text": [
      "17\n"
     ]
    }
   ],
   "source": [
    "# sum = a+b\n",
    "a=8\n",
    "b=9\n",
    "sum=0\n",
    "sum=a+b\n",
    "print(sum)"
   ]
  },
  {
   "cell_type": "code",
   "execution_count": 4,
   "metadata": {},
   "outputs": [
    {
     "data": {
      "text/plain": [
       "8"
      ]
     },
     "execution_count": 4,
     "metadata": {},
     "output_type": "execute_result"
    }
   ],
   "source": [
    "# divide / % //\n",
    "# **\n",
    "2 **3"
   ]
  },
  {
   "cell_type": "code",
   "execution_count": null,
   "metadata": {},
   "outputs": [],
   "source": [
    "no= 8\n",
    "rem=no % 2\n",
    "if rem == 0 :\n",
    "    print(\"even\")"
   ]
  },
  {
   "cell_type": "code",
   "execution_count": 2,
   "metadata": {},
   "outputs": [
    {
     "name": "stdout",
     "output_type": "stream",
     "text": [
      "range(1, 11)\n",
      "[1, 8, 27, 64, 125, 216, 343, 512, 729, 1000]\n"
     ]
    }
   ],
   "source": [
    "# List\n",
    "# tuple\n",
    "# dictionary\n",
    "# set\n",
    "power = []\n",
    "n1= 1\n",
    "n2=10\n",
    "\n",
    "# 1 2 3 4 5 6 7 8 9 10\n",
    "x = range(n1,n2+1,1)\n",
    "print(x)\n",
    "\n",
    "for val in x:\n",
    "    p = val ** 3\n",
    "    power.append(p)\n",
    "\n",
    "print(power)"
   ]
  },
  {
   "cell_type": "code",
   "execution_count": 3,
   "metadata": {},
   "outputs": [
    {
     "name": "stdout",
     "output_type": "stream",
     "text": [
      "285\n"
     ]
    }
   ],
   "source": [
    "m =6\n",
    "n= 30\n",
    "sumofdivisible =0\n",
    "sumofnondivisble=0 \n",
    "for val in range(1,n+1,1):\n",
    "    if val % m ==0 :\n",
    "        sumofdivisible += val\n",
    "    else:\n",
    "        sumofnondivisble += val\n",
    "\n",
    "print(sumofnondivisble - sumofdivisible)"
   ]
  },
  {
   "cell_type": "code",
   "execution_count": 7,
   "metadata": {},
   "outputs": [
    {
     "name": "stdout",
     "output_type": "stream",
     "text": [
      "7\n",
      "3\n"
     ]
    }
   ],
   "source": [
    "arr=[3 ,2, 1, 7, 5, 4]\n",
    "# [3]\n",
    "max=arr[0]\n",
    "smax=arr[0]\n",
    "for i in range(1,len(arr)):\n",
    "    if arr[i] > max:\n",
    "        smax= max\n",
    "        max=arr[i]\n",
    "print(max)\n",
    "print(smax)"
   ]
  },
  {
   "cell_type": "code",
   "execution_count": 11,
   "metadata": {},
   "outputs": [
    {
     "data": {
      "text/plain": [
       "4"
      ]
     },
     "execution_count": 11,
     "metadata": {},
     "output_type": "execute_result"
    }
   ],
   "source": [
    "arr=[3 ,2, 1, 7, 5, 4]\n",
    "k=3\n",
    "arr.sort()\n",
    "arr[len(arr)-k]\n",
    "\n"
   ]
  },
  {
   "cell_type": "code",
   "execution_count": 1,
   "metadata": {},
   "outputs": [
    {
     "name": "stdout",
     "output_type": "stream",
     "text": [
      "8\n",
      "7\n",
      "6\n",
      "5\n",
      "4\n",
      "3\n",
      "2\n",
      "1\n"
     ]
    }
   ],
   "source": [
    "no=12345678\n",
    "while no != 0:\n",
    "    rem = no %10\n",
    "    print(rem)\n",
    "    no //= 10"
   ]
  },
  {
   "cell_type": "code",
   "execution_count": 2,
   "metadata": {},
   "outputs": [
    {
     "name": "stdout",
     "output_type": "stream",
     "text": [
      "87654321\n"
     ]
    }
   ],
   "source": [
    "no=12345678\n",
    "rev=0\n",
    "while no != 0:\n",
    "    rem = no %10\n",
    "    rev = 10*rev+rem\n",
    "    no //= 10\n",
    "\n",
    "\n",
    "print(rev)"
   ]
  },
  {
   "cell_type": "code",
   "execution_count": 6,
   "metadata": {},
   "outputs": [
    {
     "name": "stdout",
     "output_type": "stream",
     "text": [
      "Palindrome\n"
     ]
    }
   ],
   "source": [
    "no=1222221\n",
    "copy= no\n",
    "rev=0\n",
    "while no != 0:\n",
    "    rem = no %10\n",
    "    rev = 10*rev+rem\n",
    "    no //= 10\n",
    "\n",
    "if rev == copy :\n",
    "    print(\"Palindrome\")\n",
    "else:\n",
    "    print(\"satanash kr dia\")\n"
   ]
  },
  {
   "cell_type": "code",
   "execution_count": 12,
   "metadata": {},
   "outputs": [
    {
     "name": "stdout",
     "output_type": "stream",
     "text": [
      "Armstrong\n"
     ]
    }
   ],
   "source": [
    "no=1634\n",
    "temp=no\n",
    "copy= no\n",
    "arm=0\n",
    "l=0\n",
    "while temp !=0:\n",
    "    l+=1\n",
    "    temp//=10\n",
    "\n",
    "\n",
    "while no != 0:\n",
    "    rem = no %10\n",
    "    arm += rem ** l\n",
    "    no //= 10\n",
    "\n",
    "if arm == copy :\n",
    "    print(\"Armstrong\")\n",
    "else:\n",
    "    print(\"satanash kr dia\")\n"
   ]
  },
  {
   "cell_type": "code",
   "execution_count": 15,
   "metadata": {},
   "outputs": [
    {
     "name": "stdout",
     "output_type": "stream",
     "text": [
      "Peterson\n"
     ]
    }
   ],
   "source": [
    "no=145\n",
    "copy= no\n",
    "ptr=0\n",
    "while no != 0:\n",
    "    rem = no %10\n",
    "    fact=1\n",
    "    for i in range(rem,0,-1):\n",
    "        fact *= i\n",
    "    ptr += fact\n",
    "    no //= 10\n",
    "\n",
    "if ptr == copy :\n",
    "    print(\"Peterson\")\n",
    "else:\n",
    "    print(\"satanash kr dia\")\n"
   ]
  },
  {
   "cell_type": "code",
   "execution_count": null,
   "metadata": {},
   "outputs": [],
   "source": [
    "no=371\n",
    "copy= no\n",
    "sum=0\n",
    "pro=1\n",
    "while no != 0:\n",
    "    rem = no %10\n",
    "    sum+=rem\n",
    "    pro *=rem\n",
    "    ptr += fact\n",
    "    no //= 10\n",
    "\n",
    "if sum == pro :\n",
    "    print(\"Peterson\")\n",
    "else:\n",
    "    print(\"satanash kr dia\")"
   ]
  },
  {
   "cell_type": "code",
   "execution_count": 16,
   "metadata": {},
   "outputs": [
    {
     "name": "stdout",
     "output_type": "stream",
     "text": [
      "Automorphic\n"
     ]
    }
   ],
   "source": [
    "no= 6\n",
    "sq= no**2\n",
    "copy=no\n",
    "l= 0\n",
    "while no !=0:\n",
    "    l+=1\n",
    "    no//=10\n",
    "\n",
    "dsq= sq % (10**l)\n",
    "\n",
    "if copy==dsq:\n",
    "    print(\"Automorphic\")\n",
    "else:\n",
    "    print(\"no\")"
   ]
  },
  {
   "cell_type": "code",
   "execution_count": 18,
   "metadata": {},
   "outputs": [
    {
     "name": "stdout",
     "output_type": "stream",
     "text": [
      "tech nahi hai\n"
     ]
    }
   ],
   "source": [
    "no=2244\n",
    "copy= no\n",
    "temp=no\n",
    "l=0\n",
    "while temp!=0:\n",
    "    l+=1\n",
    "    temp//=10\n",
    "\n",
    "if l % 2==0:\n",
    "    hf= l//2\n",
    "    a= no % (10**hf)\n",
    "    no //=(10**hf)\n",
    "    b=no % (10**hf)\n",
    "    if((a+b)**2) == copy:\n",
    "        print(\"Tech \")\n",
    "    else:\n",
    "        print(\"tech nahi hai\")\n",
    "else:\n",
    "    print(\"not tech\")"
   ]
  },
  {
   "cell_type": "code",
   "execution_count": 1,
   "metadata": {},
   "outputs": [],
   "source": [
    "def Helloworld():\n",
    "    print(\"hello\")"
   ]
  },
  {
   "cell_type": "code",
   "execution_count": 2,
   "metadata": {},
   "outputs": [
    {
     "name": "stdout",
     "output_type": "stream",
     "text": [
      "hello\n"
     ]
    }
   ],
   "source": [
    "Helloworld()"
   ]
  },
  {
   "cell_type": "code",
   "execution_count": 10,
   "metadata": {},
   "outputs": [],
   "source": [
    "def storeinList(l):\n",
    "    \n",
    "    l.append(7)\n",
    "    print(l)"
   ]
  },
  {
   "cell_type": "code",
   "execution_count": 11,
   "metadata": {},
   "outputs": [
    {
     "name": "stdout",
     "output_type": "stream",
     "text": [
      "[7]\n"
     ]
    }
   ],
   "source": [
    "l=[]\n",
    "storeinList(l)"
   ]
  },
  {
   "cell_type": "code",
   "execution_count": 12,
   "metadata": {},
   "outputs": [
    {
     "name": "stdout",
     "output_type": "stream",
     "text": [
      "[7, 7]\n"
     ]
    }
   ],
   "source": [
    "storeinList(l)"
   ]
  },
  {
   "cell_type": "code",
   "execution_count": 15,
   "metadata": {},
   "outputs": [],
   "source": [
    "def storeinList(l,n,s):\n",
    "    if (s>n):\n",
    "        return \n",
    "    l.append(s)\n",
    "    storeinList(l,n,s+1)"
   ]
  },
  {
   "cell_type": "code",
   "execution_count": 16,
   "metadata": {},
   "outputs": [
    {
     "name": "stdout",
     "output_type": "stream",
     "text": [
      "[1, 2, 3, 4, 5, 6, 7, 8, 9, 10]\n"
     ]
    }
   ],
   "source": [
    "l=[]\n",
    "storeinList(l,10,1)\n",
    "print(l)"
   ]
  },
  {
   "cell_type": "code",
   "execution_count": 18,
   "metadata": {},
   "outputs": [],
   "source": [
    "def printarg(*arg):\n",
    "    for i in arg:\n",
    "        print(i)"
   ]
  },
  {
   "cell_type": "code",
   "execution_count": 20,
   "metadata": {},
   "outputs": [
    {
     "name": "stdout",
     "output_type": "stream",
     "text": [
      "Apple\n",
      "120\n",
      "100\n"
     ]
    }
   ],
   "source": [
    "printarg(\"Apple\",120,100)"
   ]
  },
  {
   "cell_type": "code",
   "execution_count": 21,
   "metadata": {},
   "outputs": [],
   "source": [
    "def printarg2(**d):\n",
    "    print(d[\"name\"])\n",
    "    print(d[\"roll\"])\n",
    "    print(d[\"marks\"])"
   ]
  },
  {
   "cell_type": "code",
   "execution_count": 23,
   "metadata": {},
   "outputs": [
    {
     "name": "stdout",
     "output_type": "stream",
     "text": [
      "ansh\n",
      "8\n",
      "1000\n"
     ]
    }
   ],
   "source": [
    "printarg2(name=\"ansh\",roll=8,marks=1000)"
   ]
  },
  {
   "cell_type": "code",
   "execution_count": null,
   "metadata": {},
   "outputs": [],
   "source": []
  }
 ],
 "metadata": {
  "kernelspec": {
   "display_name": "Python 3",
   "language": "python",
   "name": "python3"
  },
  "language_info": {
   "codemirror_mode": {
    "name": "ipython",
    "version": 3
   },
   "file_extension": ".py",
   "mimetype": "text/x-python",
   "name": "python",
   "nbconvert_exporter": "python",
   "pygments_lexer": "ipython3",
   "version": "3.12.1"
  }
 },
 "nbformat": 4,
 "nbformat_minor": 2
}
