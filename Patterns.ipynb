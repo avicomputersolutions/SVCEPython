{
 "cells": [
  {
   "cell_type": "code",
   "execution_count": null,
   "metadata": {},
   "outputs": [],
   "source": [
    "row= range(1,6)\n",
    "col = range(1,6)\n",
    "\n",
    "for r in row:\n",
    "    for c in col:\n",
    "        print(\"*\",end=\" \")\n",
    "    print()"
   ]
  },
  {
   "cell_type": "code",
   "execution_count": null,
   "metadata": {},
   "outputs": [],
   "source": [
    "row = range(1,6)\n",
    "for r in row:\n",
    "    print(\"* \"*5)\n"
   ]
  },
  {
   "cell_type": "code",
   "execution_count": null,
   "metadata": {},
   "outputs": [],
   "source": [
    "row= range(1,6)\n",
    "\n",
    "\n",
    "for r in row:\n",
    "    for c in range(1,r+1):\n",
    "        print(\"*\",end=\" \")\n",
    "    print()"
   ]
  },
  {
   "cell_type": "code",
   "execution_count": null,
   "metadata": {},
   "outputs": [],
   "source": [
    "row = range(1,6)\n",
    "for r in row:\n",
    "    print(\"* \"*r)"
   ]
  },
  {
   "cell_type": "code",
   "execution_count": null,
   "metadata": {},
   "outputs": [],
   "source": [
    "row = range(5,0,-1)\n",
    "for r in row:\n",
    "    print(\"* \"*r)"
   ]
  },
  {
   "cell_type": "code",
   "execution_count": null,
   "metadata": {},
   "outputs": [],
   "source": [
    "n=5\n",
    "row= range(1,n+1)\n",
    "for r in row:\n",
    "    for c in range(1,(n-r+1)+1):\n",
    "        print(\"*\",end=\" \")\n",
    "    print()"
   ]
  },
  {
   "cell_type": "code",
   "execution_count": null,
   "metadata": {},
   "outputs": [],
   "source": [
    "\n",
    "n=5\n",
    "row = range(1,6)\n",
    "for r in row:\n",
    "    print(\" \"*(n-r),end=\"\")\n",
    "    print(\"* \"*r)"
   ]
  },
  {
   "cell_type": "code",
   "execution_count": null,
   "metadata": {},
   "outputs": [],
   "source": [
    "n=5\n",
    "row= range(1,n+1)\n",
    "for r in row:\n",
    "    for sp in range(1,(n-r)+1):\n",
    "        print(\" \",end=\" \")\n",
    "    for c in range(1,r+1):\n",
    "        print(\"*\",end=\" \")\n",
    "    print()"
   ]
  },
  {
   "cell_type": "code",
   "execution_count": null,
   "metadata": {},
   "outputs": [],
   "source": [
    "n=5\n",
    "row= range(1,n+1)\n",
    "for r in row:\n",
    "    for sp in range(1,(r-1)+1):\n",
    "        print(\" \",end=\" \")\n",
    "    for c in range(1,(n-r+1)+1):\n",
    "        print(\"*\",end=\" \")\n",
    "    print()"
   ]
  },
  {
   "cell_type": "code",
   "execution_count": null,
   "metadata": {},
   "outputs": [],
   "source": [
    "n=5\n",
    "row= range(1,n+1)\n",
    "for r in row:\n",
    "    for sp in range(1,r):\n",
    "        print(\" \",end=\" \")\n",
    "    for c in range(1,(n-r+1)+1):\n",
    "        print(\"*\",end=\" \")\n",
    "    print()"
   ]
  },
  {
   "cell_type": "code",
   "execution_count": null,
   "metadata": {},
   "outputs": [],
   "source": [
    "\n",
    "n=5\n",
    "row = range(1,6)\n",
    "for r in row:\n",
    "    print(\" \"*(r-1),end=\"\")\n",
    "    print(\"* \"*(n-r+1))"
   ]
  },
  {
   "cell_type": "code",
   "execution_count": null,
   "metadata": {},
   "outputs": [],
   "source": []
  }
 ],
 "metadata": {
  "kernelspec": {
   "display_name": "Python 3",
   "language": "python",
   "name": "python3"
  },
  "language_info": {
   "codemirror_mode": {
    "name": "ipython",
    "version": 3
   },
   "file_extension": ".py",
   "mimetype": "text/x-python",
   "name": "python",
   "nbconvert_exporter": "python",
   "pygments_lexer": "ipython3",
   "version": "3.12.1"
  }
 },
 "nbformat": 4,
 "nbformat_minor": 2
}
