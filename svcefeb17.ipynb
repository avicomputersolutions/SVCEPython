{
 "cells": [
  {
   "cell_type": "code",
   "execution_count": 1,
   "metadata": {},
   "outputs": [
    {
     "name": "stdout",
     "output_type": "stream",
     "text": [
      "Hello World\n"
     ]
    }
   ],
   "source": [
    "print(\"Hello World\")"
   ]
  },
  {
   "cell_type": "code",
   "execution_count": null,
   "metadata": {},
   "outputs": [],
   "source": []
  },
  {
   "cell_type": "code",
   "execution_count": 3,
   "metadata": {},
   "outputs": [
    {
     "name": "stdout",
     "output_type": "stream",
     "text": [
      "17\n"
     ]
    }
   ],
   "source": [
    "# sum = a+b\n",
    "a=8\n",
    "b=9\n",
    "sum=0\n",
    "sum=a+b\n",
    "print(sum)"
   ]
  },
  {
   "cell_type": "code",
   "execution_count": 4,
   "metadata": {},
   "outputs": [
    {
     "data": {
      "text/plain": [
       "8"
      ]
     },
     "execution_count": 4,
     "metadata": {},
     "output_type": "execute_result"
    }
   ],
   "source": [
    "# divide / % //\n",
    "# **\n",
    "2 **3"
   ]
  },
  {
   "cell_type": "code",
   "execution_count": null,
   "metadata": {},
   "outputs": [],
   "source": [
    "no= 8\n",
    "rem=no % 2\n",
    "if rem == 0 :\n",
    "    print(\"even\")"
   ]
  },
  {
   "cell_type": "code",
   "execution_count": 2,
   "metadata": {},
   "outputs": [
    {
     "name": "stdout",
     "output_type": "stream",
     "text": [
      "range(1, 11)\n",
      "[1, 8, 27, 64, 125, 216, 343, 512, 729, 1000]\n"
     ]
    }
   ],
   "source": [
    "# List\n",
    "# tuple\n",
    "# dictionary\n",
    "# set\n",
    "power = []\n",
    "n1= 1\n",
    "n2=10\n",
    "\n",
    "# 1 2 3 4 5 6 7 8 9 10\n",
    "x = range(n1,n2+1,1)\n",
    "print(x)\n",
    "\n",
    "for val in x:\n",
    "    p = val ** 3\n",
    "    power.append(p)\n",
    "\n",
    "print(power)"
   ]
  },
  {
   "cell_type": "code",
   "execution_count": 3,
   "metadata": {},
   "outputs": [
    {
     "name": "stdout",
     "output_type": "stream",
     "text": [
      "285\n"
     ]
    }
   ],
   "source": [
    "m =6\n",
    "n= 30\n",
    "sumofdivisible =0\n",
    "sumofnondivisble=0 \n",
    "for val in range(1,n+1,1):\n",
    "    if val % m ==0 :\n",
    "        sumofdivisible += val\n",
    "    else:\n",
    "        sumofnondivisble += val\n",
    "\n",
    "print(sumofnondivisble - sumofdivisible)"
   ]
  },
  {
   "cell_type": "code",
   "execution_count": 7,
   "metadata": {},
   "outputs": [
    {
     "name": "stdout",
     "output_type": "stream",
     "text": [
      "7\n",
      "3\n"
     ]
    }
   ],
   "source": [
    "arr=[3 ,2, 1, 7, 5, 4]\n",
    "# [3]\n",
    "max=arr[0]\n",
    "smax=arr[0]\n",
    "for i in range(1,len(arr)):\n",
    "    if arr[i] > max:\n",
    "        smax= max\n",
    "        max=arr[i]\n",
    "print(max)\n",
    "print(smax)"
   ]
  },
  {
   "cell_type": "code",
   "execution_count": 11,
   "metadata": {},
   "outputs": [
    {
     "data": {
      "text/plain": [
       "4"
      ]
     },
     "execution_count": 11,
     "metadata": {},
     "output_type": "execute_result"
    }
   ],
   "source": [
    "arr=[3 ,2, 1, 7, 5, 4]\n",
    "k=3\n",
    "arr.sort()\n",
    "arr[len(arr)-k]\n",
    "\n"
   ]
  },
  {
   "cell_type": "code",
   "execution_count": 1,
   "metadata": {},
   "outputs": [
    {
     "name": "stdout",
     "output_type": "stream",
     "text": [
      "8\n",
      "7\n",
      "6\n",
      "5\n",
      "4\n",
      "3\n",
      "2\n",
      "1\n"
     ]
    }
   ],
   "source": [
    "no=12345678\n",
    "while no != 0:\n",
    "    rem = no %10\n",
    "    print(rem)\n",
    "    no //= 10"
   ]
  },
  {
   "cell_type": "code",
   "execution_count": 2,
   "metadata": {},
   "outputs": [
    {
     "name": "stdout",
     "output_type": "stream",
     "text": [
      "87654321\n"
     ]
    }
   ],
   "source": [
    "no=12345678\n",
    "rev=0\n",
    "while no != 0:\n",
    "    rem = no %10\n",
    "    rev = 10*rev+rem\n",
    "    no //= 10\n",
    "\n",
    "\n",
    "print(rev)"
   ]
  },
  {
   "cell_type": "code",
   "execution_count": 6,
   "metadata": {},
   "outputs": [
    {
     "name": "stdout",
     "output_type": "stream",
     "text": [
      "Palindrome\n"
     ]
    }
   ],
   "source": [
    "no=1222221\n",
    "copy= no\n",
    "rev=0\n",
    "while no != 0:\n",
    "    rem = no %10\n",
    "    rev = 10*rev+rem\n",
    "    no //= 10\n",
    "\n",
    "if rev == copy :\n",
    "    print(\"Palindrome\")\n",
    "else:\n",
    "    print(\"satanash kr dia\")\n"
   ]
  },
  {
   "cell_type": "code",
   "execution_count": 12,
   "metadata": {},
   "outputs": [
    {
     "name": "stdout",
     "output_type": "stream",
     "text": [
      "Armstrong\n"
     ]
    }
   ],
   "source": [
    "no=1634\n",
    "temp=no\n",
    "copy= no\n",
    "arm=0\n",
    "l=0\n",
    "while temp !=0:\n",
    "    l+=1\n",
    "    temp//=10\n",
    "\n",
    "\n",
    "while no != 0:\n",
    "    rem = no %10\n",
    "    arm += rem ** l\n",
    "    no //= 10\n",
    "\n",
    "if arm == copy :\n",
    "    print(\"Armstrong\")\n",
    "else:\n",
    "    print(\"satanash kr dia\")\n"
   ]
  },
  {
   "cell_type": "code",
   "execution_count": 15,
   "metadata": {},
   "outputs": [
    {
     "name": "stdout",
     "output_type": "stream",
     "text": [
      "Peterson\n"
     ]
    }
   ],
   "source": [
    "no=145\n",
    "copy= no\n",
    "ptr=0\n",
    "while no != 0:\n",
    "    rem = no %10\n",
    "    fact=1\n",
    "    for i in range(rem,0,-1):\n",
    "        fact *= i\n",
    "    ptr += fact\n",
    "    no //= 10\n",
    "\n",
    "if ptr == copy :\n",
    "    print(\"Peterson\")\n",
    "else:\n",
    "    print(\"satanash kr dia\")\n"
   ]
  },
  {
   "cell_type": "code",
   "execution_count": null,
   "metadata": {},
   "outputs": [],
   "source": [
    "no=371\n",
    "copy= no\n",
    "sum=0\n",
    "pro=1\n",
    "while no != 0:\n",
    "    rem = no %10\n",
    "    sum+=rem\n",
    "    pro *=rem\n",
    "    ptr += fact\n",
    "    no //= 10\n",
    "\n",
    "if sum == pro :\n",
    "    print(\"Peterson\")\n",
    "else:\n",
    "    print(\"satanash kr dia\")"
   ]
  },
  {
   "cell_type": "code",
   "execution_count": 16,
   "metadata": {},
   "outputs": [
    {
     "name": "stdout",
     "output_type": "stream",
     "text": [
      "Automorphic\n"
     ]
    }
   ],
   "source": [
    "no= 6\n",
    "sq= no**2\n",
    "copy=no\n",
    "l= 0\n",
    "while no !=0:\n",
    "    l+=1\n",
    "    no//=10\n",
    "\n",
    "dsq= sq % (10**l)\n",
    "\n",
    "if copy==dsq:\n",
    "    print(\"Automorphic\")\n",
    "else:\n",
    "    print(\"no\")"
   ]
  },
  {
   "cell_type": "code",
   "execution_count": 18,
   "metadata": {},
   "outputs": [
    {
     "name": "stdout",
     "output_type": "stream",
     "text": [
      "tech nahi hai\n"
     ]
    }
   ],
   "source": [
    "no=2244\n",
    "copy= no\n",
    "temp=no\n",
    "l=0\n",
    "while temp!=0:\n",
    "    l+=1\n",
    "    temp//=10\n",
    "\n",
    "if l % 2==0:\n",
    "    hf= l//2\n",
    "    a= no % (10**hf)\n",
    "    no //=(10**hf)\n",
    "    b=no % (10**hf)\n",
    "    if((a+b)**2) == copy:\n",
    "        print(\"Tech \")\n",
    "    else:\n",
    "        print(\"tech nahi hai\")\n",
    "else:\n",
    "    print(\"not tech\")"
   ]
  },
  {
   "cell_type": "code",
   "execution_count": 1,
   "metadata": {},
   "outputs": [],
   "source": [
    "def Helloworld():\n",
    "    print(\"hello\")"
   ]
  },
  {
   "cell_type": "code",
   "execution_count": 2,
   "metadata": {},
   "outputs": [
    {
     "name": "stdout",
     "output_type": "stream",
     "text": [
      "hello\n"
     ]
    }
   ],
   "source": [
    "Helloworld()"
   ]
  },
  {
   "cell_type": "code",
   "execution_count": 10,
   "metadata": {},
   "outputs": [],
   "source": [
    "def storeinList(l):\n",
    "    \n",
    "    l.append(7)\n",
    "    print(l)"
   ]
  },
  {
   "cell_type": "code",
   "execution_count": 11,
   "metadata": {},
   "outputs": [
    {
     "name": "stdout",
     "output_type": "stream",
     "text": [
      "[7]\n"
     ]
    }
   ],
   "source": [
    "l=[]\n",
    "storeinList(l)"
   ]
  },
  {
   "cell_type": "code",
   "execution_count": 12,
   "metadata": {},
   "outputs": [
    {
     "name": "stdout",
     "output_type": "stream",
     "text": [
      "[7, 7]\n"
     ]
    }
   ],
   "source": [
    "storeinList(l)"
   ]
  },
  {
   "cell_type": "code",
   "execution_count": 15,
   "metadata": {},
   "outputs": [],
   "source": [
    "def storeinList(l,n,s):\n",
    "    if (s>n):\n",
    "        return \n",
    "    l.append(s)\n",
    "    storeinList(l,n,s+1)"
   ]
  },
  {
   "cell_type": "code",
   "execution_count": 16,
   "metadata": {},
   "outputs": [
    {
     "name": "stdout",
     "output_type": "stream",
     "text": [
      "[1, 2, 3, 4, 5, 6, 7, 8, 9, 10]\n"
     ]
    }
   ],
   "source": [
    "l=[]\n",
    "storeinList(l,10,1)\n",
    "print(l)"
   ]
  },
  {
   "cell_type": "code",
   "execution_count": 18,
   "metadata": {},
   "outputs": [],
   "source": [
    "def printarg(*arg):\n",
    "    for i in arg:\n",
    "        print(i)"
   ]
  },
  {
   "cell_type": "code",
   "execution_count": 20,
   "metadata": {},
   "outputs": [
    {
     "name": "stdout",
     "output_type": "stream",
     "text": [
      "Apple\n",
      "120\n",
      "100\n"
     ]
    }
   ],
   "source": [
    "printarg(\"Apple\",120,100)"
   ]
  },
  {
   "cell_type": "code",
   "execution_count": 21,
   "metadata": {},
   "outputs": [],
   "source": [
    "def printarg2(**d):\n",
    "    print(d[\"name\"])\n",
    "    print(d[\"roll\"])\n",
    "    print(d[\"marks\"])"
   ]
  },
  {
   "cell_type": "code",
   "execution_count": 23,
   "metadata": {},
   "outputs": [
    {
     "name": "stdout",
     "output_type": "stream",
     "text": [
      "ansh\n",
      "8\n",
      "1000\n"
     ]
    }
   ],
   "source": [
    "printarg2(name=\"ansh\",roll=8,marks=1000)"
   ]
  },
  {
   "cell_type": "code",
   "execution_count": 25,
   "metadata": {},
   "outputs": [
    {
     "name": "stdout",
     "output_type": "stream",
     "text": [
      "<_csv.reader object at 0x1086f4970>\n",
      "[['date', 'product', 'category', 'price', 'quantity', 'revenue'], ['2022-01-01', 'Smartphone', 'Electronics', '600', '10', '6000'], ['2022-01-01', 'Laptop', 'Electronics', '1200', '5', '6000'], ['2022-01-02', 'T-Shirt', 'Clothing', '20', '50', '1000'], ['2022-01-03', 'Headphones', 'Electronics', '100', '20', '2000'], ['2022-01-04', 'T-Shirt', 'Clothing', '20', '25', '500'], ['2022-01-05', 'Watch', 'Accessories', '150', '10', '1500'], ['2022-01-06', 'Smartphone', 'Electronics', '600', '8', '4800'], ['2022-01-06', 'Tablet', 'Electronics', '400', '5', '2000'], ['2022-01-07', 'Coat', 'Clothing', '100', '10', '1000'], ['2022-01-08', 'Smartwatch', 'Accessories', '200', '12', '2400'], ['2022-01-09', 'Speaker', 'Electronics', '80', '15', '1200'], ['2022-01-10', 'Backpack', 'Bags', '50', '20', '1000'], ['2022-01-11', 'Hoodie', 'Clothing', '40', '30', '1200'], ['2022-01-12', 'Smartphone', 'Electronics', '600', '12', '7200'], ['2022-01-13', 'Sneakers', 'Shoes', '80', '10', '800'], ['2022-01-14', 'Wallet', 'Accessories', '30', '40', '1200'], ['2022-01-15', 'Jeans', 'Clothing', '50', '20', '1000'], ['2022-01-16', 'Smartwatch', 'Accessories', '200', '5', '1000'], ['2022-01-17', 'Smartphone', 'Electronics', '600', '6', '3600'], ['2022-01-18', 'Coat', 'Clothing', '100', '8', '800'], ['2022-01-19', 'Speaker', 'Electronics', '80', '20', '1600'], ['2022-01-20', 'Backpack', 'Bags', '50', '15', '750'], ['2022-01-21', 'T-Shirt', 'Clothing', '20', '40', '800'], ['2022-01-22', 'Smartphone', 'Electronics', '600', '7', '4200'], ['2022-01-23', 'Tablet', 'Electronics', '400', '3', '1200'], ['2022-01-24', 'Hoodie', 'Clothing', '40', '15', '600'], ['2022-01-25', 'Smartwatch', 'Accessories', '200', '8', '1600'], ['2022-01-26', 'Sneakers', 'Shoes', '80', '12', '960'], ['2022-01-27', 'Coat', 'Clothing', '100', '5', '500'], ['2022-01-28', 'Speaker', 'Electronics', '80', '8', '640'], ['2022-01-29', 'T-Shirt', 'Clothing', '20', '30', '600'], ['2022-01-30', 'Smartphone', 'Electronics', '600', '9', '5400'], ['2022-01-31', 'Jeans', 'Clothing', '50', '15', '750'], ['2022-02-01', 'T-Shirt', 'Clothing', '20', '35', '700'], ['2022-02-02', 'Smartphone', 'Electronics', '600', '10', '6000'], ['2022-02-03', 'Headphones', 'Electronics', '100', '25', '2500'], ['2022-02-04', 'Coat', 'Clothing', '100', '12', '1200'], ['2022-02-05', 'Watch', 'Accessories', '150', '8', '1200'], ['2022-02-06', 'Smartphone', 'Electronics', '600', '7', '4200'], ['2022-02-07', 'Speaker', 'Electronics', '80', '18', '1440'], ['2022-02-08', 'Backpack', 'Bags', '50', '25', '1250'], ['2022-02-09', 'Smartwatch', 'Accessories', '200', '6', '1200'], ['2022-02-10', 'Jeans', 'Clothing', '50', '10', '500'], ['2022-02-11', 'T-Shirt', 'Clothing', '20', '20', '400'], ['2022-02-12', 'Smartphone', 'Electronics', '600', '12', '7200'], ['2022-02-13', 'Sneakers', 'Shoes', '80', '8', '640'], ['2022-02-14', 'Wallet', 'Accessories', '30', '30', '900'], ['2022-02-15', 'Tablet', 'Electronics', '400', '4', '1600'], ['2022-02-16', 'Smartwatch', 'Accessories', '200', '7', '1400'], ['2022-02-17', 'Smartphone', 'Electronics', '600', '6', '3600'], ['2022-02-18', 'Hoodie', 'Clothing', '40', '20', '800'], ['2022-02-19', 'Speaker', 'Electronics', '80', '12', '960'], ['2022-02-20', 'Backpack', 'Bags', '50', '18', '900'], ['2022-02-21', 'Sneakers', 'Shoes', '80', '5', '400'], ['2022-02-22', 'Smartphone', 'Electronics', '600', '8', '4800'], ['2022-02-23', 'Coat', 'Clothing', '100', '6', '600'], ['2022-02-24', 'T-Shirt', 'Clothing', '20', '15', '300'], ['2022-02-25', 'Smartwatch', 'Accessories', '200', '10', '2000'], ['2022-02-26', 'Jeans', 'Clothing', '50', '18', '900'], ['2022-02-27', 'Smartphone', 'Electronics', '600', '9', '5400'], ['2022-02-28', 'Watch', 'Accessories', '150', '5', '750'], ['2022-03-01', 'T-Shirt', 'Clothing', '20', '40', '800'], ['2022-03-02', 'Smartphone', 'Electronics', '600', '10', '6000'], ['2022-03-03', 'Headphones', 'Electronics', '100', '15', '1500'], ['2022-03-04', 'Coat', 'Clothing', '100', '20', '2000'], ['2022-03-05', 'Smartwatch', 'Accessories', '200', '12', '2400'], ['2022-03-06', 'Smartphone', 'Electronics', '600', '7', '4200'], ['2022-03-07', 'Speaker', 'Electronics', '80', '10', '800'], ['2022-03-08', 'Backpack', 'Bags', '50', '15', '750'], ['2022-03-09', 'Jeans', 'Clothing', '50', '25', '1250'], ['2022-03-10', 'T-Shirt', 'Clothing', '20', '30', '600'], ['2022-03-11', 'Hoodie', 'Clothing', '40', '10', '400'], ['2022-03-12', 'Smartphone', 'Electronics', '600', '12', '7200'], ['2022-03-13', 'Sneakers', 'Shoes', '80', '15', '1200'], ['2022-03-14', 'Wallet', 'Accessories', '30', '40', '1200'], ['2022-03-15', 'Smartwatch', 'Accessories', '200', '5', '1000'], ['2022-03-16', 'Smartphone', 'Electronics', '600', '6', '3600'], ['2022-03-17', 'Coat', 'Clothing', '100', '8', '800'], ['2022-03-18', 'Speaker', 'Electronics', '80', '20', '1600'], ['2022-03-19', 'Backpack', 'Bags', '50', '10', '500'], ['2022-03-20', 'T-Shirt', 'Clothing', '20', '25', '500'], ['2022-03-21', 'Tablet', 'Electronics', '400', '3', '1200'], ['2022-03-22', 'Smartphone', 'Electronics', '600', '7', '4200'], ['2022-03-23', 'Sneakers', 'Shoes', '80', '12', '960'], ['2022-03-24', 'T-Shirt', 'Clothing', '20', '15', '300'], ['2022-03-25', 'Smartwatch', 'Accessories', '200', '8', '1600'], ['2022-03-26', 'Jeans', 'Clothing', '50', '20', '1000'], ['2022-03-27', 'Smartphone', 'Electronics', '600', '9', '5400'], ['2022-03-28', 'Watch', 'Accessories', '150', '10', '1500'], ['2022-03-29', 'Coat', 'Clothing', '100', '5', '500'], ['2022-03-30', 'Headphones', 'Electronics', '100', '10', '1000'], ['2022-03-31', 'Smartphone', 'Electronics', '600', '11', '6600'], ['2022-04-01', 'Hoodie', 'Clothing', '40', '30', '1200'], ['2022-04-02', 'Smartphone', 'Electronics', '600', '10', '6000'], ['2022-04-03', 'Speaker', 'Electronics', '80', '25', '2000'], ['2022-04-04', 'Coat', 'Clothing', '100', '15', '1500'], ['2022-04-05', 'Smartwatch', 'Accessories', '200', '10', ''], ['2022-04-06', 'Smartphone', 'Electronics', '600', '7', '4200'], ['2022-04-07', 'Backpack', 'Bags', '50', '18', '900'], ['2022-04-08', 'T-Shirt', 'Clothing', '20', '35', '700'], ['2022-04-09', 'Jeans', 'Clothing', '50', '10', '500'], ['2022-04-10', 'Watch', 'Accessories', '150', '12', '1800'], ['2022-04-11', 'Hoodie', 'Clothing', '40', '20', '800'], ['2022-04-12', 'Smartphone', 'Electronics', '600', '12', '7200'], ['2022-04-13', 'Sneakers', 'Shoes', '80', '8', '640'], ['2022-04-14', 'Wallet', 'Accessories', '30', '30', '900'], ['2022-04-15', 'Smartwatch', 'Accessories', '200', '5', '1000'], ['2022-04-16', 'Smartphone', 'Electronics', '600', '6', '3600'], ['2022-04-17', 'Coat', 'Clothing', '100', '8', '800'], ['2022-04-18', 'Speaker', 'Electronics', '80', '20', '1600'], ['2022-04-19', 'Backpack', 'Bags', '50', '15', '750'], ['2022-04-20', 'T-Shirt', 'Clothing', '20', '20', '400'], ['2022-04-21', 'Tablet', 'Electronics', '400', '6', '2400'], ['2022-04-22', 'Smartphone', 'Electronics', '600', '7', '4200'], ['2022-04-23', 'Sneakers', 'Shoes', '80', '12', '960'], ['2022-04-24', 'T-Shirt', 'Clothing', '20', '25', '500'], ['2022-04-25', 'Smartwatch', 'Accessories', '200', '8', '1600'], ['2022-04-26', 'Jeans', 'Clothing', '50', '15', '750'], ['2022-04-27', 'Smartphone', 'Electronics', '600', '9', '5400'], ['2022-04-28', 'Watch', 'Accessories', '150', '10', '1500'], ['2022-04-29', 'Coat', 'Clothing', '100', '5', '500'], ['2022-04-30', 'Headphones', 'Electronics', '100', '15', '1500'], ['2022-05-01', 'Smartphone', 'Electronics', '600', '', '6600'], ['2022-05-02', 'Hoodie', 'Clothing', '40', '20', '800'], ['2022-05-03', 'Smartphone', 'Electronics', '600', '10', '6000'], ['2022-05-04', 'Speaker', 'Electronics', '80', '22', '1760'], ['2022-05-05', 'Coat', 'Clothing', '100', '18', '1800'], ['2022-05-06', 'Smartwatch', 'Accessories', '200', '12', '2400'], ['2022-05-07', 'Smartphone', 'Electronics', '600', '7', '4200'], ['2022-05-08', 'Backpack', 'Bags', '50', '20', '1000'], ['2022-05-09', 'T-Shirt', 'Clothing', '20', '30', '600'], ['2022-05-10', 'Jeans', 'Clothing', '50', '25', '1250'], ['2022-05-11', 'Watch', 'Accessories', '150', '15', '2250'], ['2022-05-12', 'Hoodie', 'Clothing', '40', '15', '600'], ['2022-05-13', 'Smartphone', 'Electronics', '600', '12', '7200'], ['2022-05-14', 'Sneakers', 'Shoes', '80', '8', '640'], ['2022-05-15', 'Wallet', 'Accessories', '30', '35', '1050'], ['2022-05-16', 'Smartwatch', 'Accessories', '200', '9', '1800'], ['2022-05-17', 'Smartphone', 'Electronics', '600', '6', '3600'], ['2022-05-18', 'Coat', 'Clothing', '100', '8', '800'], ['2022-05-19', 'Speaker', 'Electronics', '80', '20', '1600'], ['2022-05-20', 'Backpack', 'Bags', '50', '15', '750'], ['2022-05-21', 'T-Shirt', 'Clothing', '20', '25', '500'], ['2022-05-22', 'Smartphone', 'Electronics', '600', '7', '4200'], ['2022-05-23', 'Sneakers', 'Shoes', '80', '12', '960'], ['2022-05-24', 'T-Shirt', 'Clothing', '20', '15', '300'], ['2022-05-25', 'Smartwatch', 'Accessories', '200', '8', '1600'], ['2022-05-26', 'Jeans', 'Clothing', '50', '20', '1000'], ['2022-05-27', 'Smartphone', 'Electronics', '600', '9', '5400'], ['2022-05-28', 'Watch', 'Accessories', '150', '5', '750'], ['2022-05-29', 'Coat', 'Clothing', '100', '5', '500'], ['2022-05-30', 'Headphones', 'Electronics', '100', '10', '1000'], ['2022-05-31', 'Smartphone', 'Electronics', '600', '11', '6600'], ['2022-06-01', 'Hoodie', 'Clothing', '40', '30', '1200'], ['2022-06-02', 'Smartphone', 'Electronics', '600', '10', '6000'], ['2022-06-03', 'Speaker', 'Electronics', '80', '25', '2000'], ['2022-06-04', 'Coat', 'Clothing', '100', '15', '1500'], ['2022-06-05', 'Smartwatch', 'Accessories', '200', '10', '2000'], ['2022-06-06', 'Smartphone', 'Electronics', '600', '7', '4200'], ['2022-06-07', 'Backpack', 'Bags', '50', '18', '900'], ['2022-06-08', 'T-Shirt', 'Clothing', '20', '35', '700'], ['2022-06-09', 'Jeans', 'Clothing', '50', '10', '500'], ['2022-06-10', 'Watch', 'Accessories', '150', '12', '1800'], ['2022-06-11', 'Hoodie', 'Clothing', '40', '20', '800'], ['2022-06-12', 'Smartphone', 'Electronics', '600', '12', '7200'], ['2022-06-13', 'Sneakers', 'Shoes', '80', '15', '1200'], ['2022-06-14', 'Wallet', 'Accessories', '30', '40', '1200'], ['2022-06-15', 'Smartwatch', 'Accessories', '200', '5', '1000'], ['2022-06-16', 'Smartphone', 'Electronics', '600', '6', '3600'], ['2022-06-17', 'Coat', 'Clothing', '100', '8', '800'], ['2022-06-18', 'Speaker', 'Electronics', '80', '20', '1600'], ['2022-06-19', 'Backpack', 'Bags', '50', '15', '750'], ['2022-06-20', 'T-Shirt', 'Clothing', '20', '20', '400'], ['2022-06-21', 'Tablet', 'Electronics', '400', '6', '2400'], ['2022-06-22', 'Smartphone', 'Electronics', '600', '7', '4200'], ['2022-06-23', 'Sneakers', 'Shoes', '80', '12', '960'], ['2022-06-24', 'T-Shirt', 'Clothing', '20', '25', '500'], ['2022-06-25', 'Smartwatch', 'Accessories', '200', '8', '1600'], ['2022-06-26', 'Jeans', 'Clothing', '50', '15', '750'], ['2022-06-27', 'Smartphone', 'Electronics', '600', '9', '5400'], ['2022-06-28', 'Watch', 'Accessories', '150', '10', '1500'], ['2022-06-29', 'Coat', 'Clothing', '100', '5', '500'], ['2022-06-30', 'Headphones', 'Electronics', '100', '15', '1500'], ['2022-07-01', 'Smartphone', 'Electronics', '600', '11', '6600'], ['2022-07-02', 'Hoodie', 'Clothing', '40', '20', '800'], ['2022-07-03', 'Smartphone', 'Electronics', '600', '10', '6000'], ['2022-07-04', 'Speaker', 'Electronics', '80', '22', '1760'], ['2022-07-05', 'Coat', 'Clothing', '100', '18', '1800'], ['2022-07-06', 'Smartwatch', 'Accessories', '200', '12', '2400'], ['2022-07-07', 'Smartphone', 'Electronics', '600', '7', '4200'], ['2022-07-08', 'Backpack', 'Bags', '50', '20', '1000'], ['2022-07-09', 'T-Shirt', 'Clothing', '20', '30', '600'], ['2022-07-10', 'Jeans', 'Clothing', '50', '25', '1250'], ['2022-07-11', 'Watch', 'Accessories', '', '15', '2250'], ['2022-07-12', 'Hoodie', 'Clothing', '40', '15', '600'], ['2022-07-13', 'Smartphone', 'Electronics', '600', '12', '7200'], ['2022-07-14', 'Sneakers', 'Shoes', '80', '8', '640'], ['2022-07-15', 'Wallet', 'Accessories', '30', '35', '1050'], ['2022-07-16', 'Smartwatch', 'Accessories', '200', '9', '1800'], ['2022-07-17', 'Smartphone', 'Electronics', '600', '6', '3600'], ['2022-07-18', 'Coat', 'Clothing', '100', '8', '800'], ['2022-07-19', 'Speaker', 'Electronics', '80', '20', '1600'], ['2022-07-20', 'Backpack', 'Bags', '50', '15', '750'], ['2022-07-21', 'T-Shirt', 'Clothing', '20', '25', '500'], ['2022-07-22', 'Smartphone', 'Electronics', '600', '7', '4200'], ['2022-07-23', 'Sneakers', 'Shoes', '80', '12', '960'], ['2022-07-24', 'T-Shirt', 'Clothing', '20', '15', '300'], ['2022-07-25', 'Smartwatch', 'Accessories', '200', '8', '1600'], ['2022-07-26', 'Jeans', 'Clothing', '50', '20', '1000'], ['2022-07-27', 'Smartphone', 'Electronics', '600', '9', '5400'], ['2022-07-28', 'Watch', 'Accessories', '150', '5', '750'], ['2022-07-29', 'Coat', 'Clothing', '100', '5', '500'], ['2022-07-30', 'Headphones', 'Electronics', '100', '10', '1000'], ['2022-07-31', 'Smartphone', 'Electronics', '600', '11', '6600'], ['2022-08-01', 'Hoodie', 'Clohting', '40', '30', '1200'], ['2022-08-02', 'Smartphone', 'Electronics', '600', '10', '6000'], ['2022-08-03', 'Speaker', 'Electronics', '80', '25', '2000'], ['2022-08-04', 'Coat', 'Clothing', '100', '15', '1500'], ['2022-08-05', 'Smartwatch', 'Accessories', '200', '10', '2000'], ['2022-08-06', 'Smartphone', 'Electronics', '600', '7', '4200'], ['2022-08-07', 'Backpack', 'Bags', '50', '18', '900'], ['2022-08-08', 'T-Shirt', 'Clothing', '20', '35', '700'], ['2022-08-09', 'Jeans', 'Clothing', '50', '10', '500'], ['2022-08-10', 'Watch', 'Accessories', '150', '12', '1800'], ['2022-08-11', 'Hoodie', 'Clothing', '40', '20', '800'], ['2022-08-12', 'Smartphone', 'Electronics', '600', '12', '7200'], ['2022-08-13', 'Sneakers', 'Shoes', '80', '15', '1200'], ['2022-08-14', 'Wallet', 'Accessories', '30', '40', '1200'], ['2022-08-15', 'Smartwatch', 'Accessories', '200', '5', '1000'], ['2022-08-16', 'Smartphone', 'Electronics', '600', '6', '3600'], ['2022-08-17', 'Coat', 'Clothing', '100', '8', '800'], ['2022-08-18', 'Speaker', 'Electronics', '80', '20', '1600'], ['2022-08-19', 'Backpack', 'Bags', '50', '15', '750'], ['2022-08-20', 'T-Shirt', 'Clothing', '20', '20', '400'], ['2022-08-21', 'Tablet', 'Electronics', '400', '6', '2400'], ['2022-08-22', 'Smartphone', 'Electronics', '600', '7', '4200'], ['2022-08-23', 'Sneakers', 'Shoes', '80', '12', '960'], ['2022-08-24', 'T-Shirt', 'Clothing', '20', '25', '500'], ['2022-08-25', 'Smartwatch', 'Accessories', '200', '8', '1600'], ['2022-08-26', 'Jeans', 'Clothing', '50', '15', '750'], ['2022-08-27', 'Smartphone', 'Electronics', '600', '9', '5400'], ['2022-08-28', 'Watch', 'Accessories', '150', '10', '1500'], ['2022-08-29', 'Coat', 'Clothing', '100', '5', '500'], ['2022-08-30', 'Headphones', 'Electronics', '100', '15', '1500'], ['2022-08-31', 'Smartphone', 'Electronics', '600', '11', '6600'], ['2022-09-01', 'Hoodie', 'Clothing', '40', '20', '800'], ['2022-09-02', 'Smartphone', 'Electronics', '600', '10', '6000'], ['2022-09-03', 'Speaker', 'Electronics', '80', '22', '1760'], ['2022-09-04', 'Coat', 'Clothing', '100', '18', '1800'], ['2022-09-05', 'Smartwatch', 'Accessories', '200', '12', '2400'], ['2022-09-06', 'Smartphone', 'Electronics', '600', '7', '4200'], ['2022-09-07', 'Backpack', 'Bags', '50', '20', '1000'], ['2022-09-08', 'T-Shirt', 'Clothing', '20', '30', '600'], ['2022-09-09', 'Jeans', 'Clothing', '50', '25', '1250'], ['2022-09-10', 'Watch', 'Accessories', '150', '15', '2250'], ['2022-09-11', 'Hoodie', 'Clothing', '40', '15', '600'], ['2022-09-12', 'Smartphone', 'Electronics', '600', '12', '7200'], ['2022-09-13', 'Sneakers', 'Shoes', '80', '8', '640'], ['2022-09-14', 'Wallet', 'Accessories', '30', '35', '1050'], ['2022-09-15', 'Smartwatch', 'Accessories', '200', '9', '1800'], ['2022-09-16', 'Smartphone', 'Electronics', '600', '6', '3600'], ['2022-09-17', 'Coat', 'Clothing', '100', '8', '800'], ['2022-09-18', 'Speaker', 'Electronics', '80', '20', '1600'], ['2022-09-19', 'Backpack', 'Bags', '50', '15', '750'], ['2022-09-20', 'T-Shirt', 'Clothing', '20', '25', '500'], ['2022-09-21', 'Smartphone', 'Electronics', '600', '7', '4200'], ['2022-09-22', 'Sneakers', 'Shoes', '80', '12', '960'], ['2022-09-23', 'T-Shirt', 'Clothing', '20', '15', '300'], ['2022-09-24', 'Smartwatch', 'Accessories', '200', '8', '1600'], ['2022-09-25', 'Jeans', 'Clothing', '50', '20', '1000'], ['2022-09-26', 'Smartphone', 'Electronics', '600', '9', '5400'], ['2022-09-27', 'Watch', 'Accessories', '150', '5', '750'], ['2022-09-28', 'Coat', 'Clothing', '100', '5', '500'], ['2022-09-29', 'Headphones', 'Electronics', '100', '10', '1000'], ['2022-09-30', 'Smartphone', 'Electronics', '600', '11', '6600'], ['2022-10-01', 'Hoodie', 'Clothing', '40', '30', '1200'], ['2022-10-01', 'Hoodie', 'Clothing', '40', '30', '1200'], ['2022-10-02', 'Smartphone', 'Electronics', '600', '10', '6000'], ['2022-10-03', 'Speaker', 'Electronics', '80', '25', '2000'], ['2022-10-04', 'Coat', 'Clothing', '100', '15', '1500'], ['2022-10-05', 'Smartwatch', 'Accessories', '200', '10', '2000'], ['2022-10-06', 'Smartphone', 'Electronics', '600', '7', '4200'], ['2022-10-07', 'Backpack', 'Bags', '50', '18', '900'], ['2022-10-08', 'T-Shirt', 'Clothing', '20', '35', '700'], ['2022-10-09', 'Jeans', 'Clothing', '50', '10', '500'], ['2022-10-10', 'Watch', 'Accessories', '150', '12', '1800'], ['2022-10-11', 'Hoodie', 'Clothing', '40', '20', '800'], ['2022-10-12', 'Smartphone', 'Electronics', '600', '12', '7200'], ['2022-10-13', 'Sneakers', 'Shoes', '80', '15', '1200'], ['2022-10-14', 'Wallet', 'Accessories', '30', '40', '1200'], ['2022-10-15', 'Smartwatch', 'Accessories', '200', '5', '1000'], ['2022-10-16', 'Smartphone', 'Electronics', '600', '6', '3600'], ['2022-10-17', 'Coat', 'Clothing', '100', '8', '800'], ['2022-10-18', 'Speaker', 'Electronics', '80', '20', '1600'], ['2022-10-19', 'Backpack', 'Bags', '50', '15', '750'], ['2022-10-20', 'T-Shirt', 'Clothing', '20', '20', '400'], ['2022-10-21', 'Tablet', 'Electronics', '400', '6', '2400'], ['2022-10-22', 'Smartphone', 'Electronics', '600', '7', '4200'], ['2022-10-23', 'Sneakers', 'Shoes', '80', '12', '960'], ['2022-10-24', 'T-Shirt', 'Clothing', '20', '25', '500'], ['2022-10-25', 'Smartwatch', 'Accessories', '200', '8', '1600'], ['2022-10-26', 'Jeans', 'Clothing', '50', '15', '750'], ['2022-10-27', 'Smartphone', 'Electronics', '600', '9', '5400'], ['2022-10-28', 'Watch', 'Accessories', '150', '10', '1500'], ['2022-10-29', 'Coat', 'Clothing', '100', '5', '500'], ['2022-10-30', 'Headphones', 'Electronics', '100', '15', '1500'], ['2022-10-31', 'Smartphone', 'Electronics', '600', '11', '6600'], ['2022-11-01', 'Hoodie', 'Clothing', '40', '20', '800'], ['2022-11-02', 'Smartphone', 'Electronics', '600', '10', '6000'], ['2022-11-03', 'Speaker', 'Electronics', '80', '22', '1760'], ['2022-11-04', 'Coat', 'Clothing', '100', '18', '1800'], ['2022-11-05', 'Smartwatch', 'Accessories', '200', '12', '2400'], ['2022-11-06', 'Smartphone', 'Electronics', '600', '7', '4200'], ['2022-11-07', 'Backpack', 'Bags', '50', '20', '1000'], ['2022-11-08', 'T-Shirt', 'Clothing', '20', '30', '600'], ['2022-11-09', 'Jeans', 'Clothing', '50', '25', '1250'], ['2022-11-10', 'Watch', 'Accessories', '150', '15', '2250'], ['2022-11-10', 'Hoodie', 'Clothing', '40', '15', '600'], ['2022-11-11', 'Smartphone', 'Electronics', '600', '12', '7200'], ['2022-11-12', 'Sneakers', 'Shoes', '80', '8', '640'], ['2022-11-13', 'Wallet', 'Accessories', '', '35', '1050'], ['2022-11-14', 'Smartwatch', 'Accessories', '200', '9', '1800'], ['2022-11-15', 'Smartphone', 'Electronics', '600', '6', '3600'], ['2022-11-16', 'Coat', 'Clothing', '100', '8', '800'], ['2022-11-17', 'Speaker', 'Electronics', '80', '20', '1600'], ['2022-11-18', 'Backpack', 'Bags', '50', '15', '750'], ['2022-11-19', 'T-Shirt', 'Clothing', '20', '25', '500'], ['2022-11-20', 'Smartphone', 'Electronics', '600', '7', '4200'], ['2022-11-21', 'Sneakers', 'Shoes', '80', '12', '960'], ['2022-11-22', 'T-Shirt', 'Clothing', '20', '15', '300'], ['2022-11-23', 'Smartwatch', 'Accessories', '200', '8', '1600'], ['2022-11-24', 'Jeans', 'Clothing', '50', '20', '1000'], ['2022-11-25', 'Smartphone', 'Electronics', '600', '9', '5400'], ['2022-11-26', 'Watch', 'Accessories', '150', '5', '750'], ['2022-11-27', 'Coat', 'Clothing', '100', '5', '500'], ['2022-11-28', 'Headphones', 'Electronics', '100', '10', '1000'], ['2022-11-29', 'Smartphone', 'Electronics', '600', '11', '6600'], ['2022-11-30', 'Hoodie', 'Clothing', '40', '30', '1200'], ['2022-12-01', 'Smartphone', 'Electronics', '600', '10', '6000'], ['2022-12-02', 'Speaker', 'Electronics', '80', '25', '2000'], ['2022-12-03', 'Coat', 'Clothing', '100', '15', '1500'], ['2022-12-04', 'Smartwatch', 'Accessories', '200', '10', '2000'], ['2022-12-05', 'Smartphone', 'Electronics', '600', '7', '4200'], ['2022-12-06', 'Backpack', 'Bgas', '50', '18', '900'], ['2022-12-07', 'T-Shirt', 'Clothing', '20', '35', '700'], ['2022-12-08', 'Jeans', 'Clothing', '50', '10', '500'], ['2022-12-09', 'Watch', 'Accessories', '150', '12', '1800'], ['2022-12-10', 'Hoodie', 'Clothing', '40', '20', '800'], ['2022-12-11', 'Smartphone', 'Electronics', '600', '12', '7200'], ['2022-12-12', 'Sneakers', 'Shoes', '80', '15', '1200'], ['2022-12-13', 'Wallet', 'Accessories', '30', '40', '1200'], ['2022-12-14', 'Smartwatch', 'Accessories', '200', '5', '1000'], ['2022-12-15', 'Smartphone', 'Electronics', '600', '6', '3600'], ['2022-12-16', 'Coat', 'Clothing', '100', '8', '800'], ['2022-12-17', 'Speaker', 'Electronics', '80', '20', '1600'], ['2022-12-18', 'Backpack', 'Bags', '50', '15', '750'], ['2022-12-19', 'T-Shirt', 'Clothing', '20', '20', '400'], ['2022-12-20', 'Tablet', 'Electronics', '400', '6', '2400'], ['2022-12-21', 'Smartphone', 'Electronics', '600', '7', '4200'], ['2022-12-22', 'Sneakers', 'Shoeses', '80', '12', '960'], ['2022-12-23', 'T-Shirt', 'Clothing', '20', '25', '500'], ['2022-12-24', 'Smartwatch', 'Accessories', '200', '8', '1600'], ['2022-12-25', 'Jeans', 'Clothing', '50', '15', '750'], ['2022-12-26', 'Smartphone', 'Electronics', '600', '9', '5400'], ['2022-12-27', 'Watch', 'Accessories', '150', '5', '750'], ['2022-12-28', 'Coat', 'Clothing', '100', '5', '500'], ['2022-12-29', 'Headphones', 'Electronics', '100', '10', '1000'], ['2022-12-30', 'Smartphone', 'Electronics', '600', '11', '6600'], ['2022-12-31', 'Hoodie', 'Clothing', '40', '30', '1200']]\n"
     ]
    }
   ],
   "source": [
    "from csv import reader\n",
    "file = open(\"sales_data.csv\")\n",
    "read =reader(file)\n",
    "print(read)\n",
    "data= list(read)\n",
    "print(data)"
   ]
  },
  {
   "cell_type": "code",
   "execution_count": 2,
   "metadata": {},
   "outputs": [
    {
     "name": "stdout",
     "output_type": "stream",
     "text": [
      "1460\n"
     ]
    }
   ],
   "source": [
    "kms= int(input(\"Enter Kms\"))\n",
    "if kms<=10:\n",
    "    rate = 11\n",
    "    bill = kms * rate\n",
    "elif kms>10 and kms <=100:\n",
    "    rate = 10\n",
    "    bill = 10*11+(kms-10)*rate\n",
    "else:\n",
    "    rate = 9\n",
    "    bill = 10*11+90*10+(kms-100)*9\n",
    "\n",
    "print(bill)\n",
    "\n"
   ]
  },
  {
   "cell_type": "code",
   "execution_count": 3,
   "metadata": {},
   "outputs": [
    {
     "name": "stdout",
     "output_type": "stream",
     "text": [
      "0\n",
      "1\n",
      "2\n",
      "3\n",
      "4\n",
      "5\n",
      "6\n",
      "7\n",
      "8\n",
      "9\n"
     ]
    }
   ],
   "source": [
    "x=range(10)\n",
    "for val in x:\n",
    "    print(val)"
   ]
  },
  {
   "cell_type": "code",
   "execution_count": 6,
   "metadata": {},
   "outputs": [
    {
     "name": "stdout",
     "output_type": "stream",
     "text": [
      "C o d i n g t h i n k e r "
     ]
    }
   ],
   "source": [
    "str=\"Codingthinker\"\n",
    "for i in str:\n",
    "    print(i,end=' ')"
   ]
  },
  {
   "cell_type": "code",
   "execution_count": 7,
   "metadata": {},
   "outputs": [
    {
     "name": "stdout",
     "output_type": "stream",
     "text": [
      "M ?\n",
      "y ?\n",
      "b ?\n",
      "l ?\n",
      "o ?\n",
      "g ?\n"
     ]
    }
   ],
   "source": [
    "str=\"Myblog\"\n",
    "for i in str:\n",
    "    print(i,\"?\")"
   ]
  },
  {
   "cell_type": "code",
   "execution_count": 8,
   "metadata": {},
   "outputs": [
    {
     "name": "stdout",
     "output_type": "stream",
     "text": [
      "2\n",
      "3\n",
      "4\n",
      "5\n",
      "6\n",
      "7\n",
      "8\n",
      "9\n",
      "10\n",
      "11\n",
      "12\n",
      "13\n",
      "14\n"
     ]
    }
   ],
   "source": [
    "x= range(2,15)\n",
    "for i in x:\n",
    "    print(i)"
   ]
  },
  {
   "cell_type": "code",
   "execution_count": 9,
   "metadata": {},
   "outputs": [
    {
     "name": "stdout",
     "output_type": "stream",
     "text": [
      "2\n",
      "3\n",
      "4\n",
      "5\n",
      "6\n",
      "7\n",
      "8\n",
      "9\n",
      "10\n",
      "11\n",
      "12\n",
      "13\n",
      "14\n",
      "15\n"
     ]
    }
   ],
   "source": [
    "n1=2\n",
    "n2=15\n",
    "x= range(n1,n2+1)\n",
    "for i in x:\n",
    "    print(i)"
   ]
  },
  {
   "cell_type": "code",
   "execution_count": 10,
   "metadata": {},
   "outputs": [
    {
     "name": "stdout",
     "output_type": "stream",
     "text": [
      "1\n",
      "2\n",
      "3\n",
      "4\n",
      "5\n",
      "6\n",
      "7\n",
      "8\n",
      "9\n",
      "10\n"
     ]
    }
   ],
   "source": [
    "n= range(1,11)\n",
    "for i in n:\n",
    "    print(i)"
   ]
  },
  {
   "cell_type": "code",
   "execution_count": 11,
   "metadata": {},
   "outputs": [
    {
     "name": "stdout",
     "output_type": "stream",
     "text": [
      "2\n",
      "4\n",
      "6\n",
      "8\n",
      "10\n",
      "12\n",
      "14\n",
      "16\n",
      "18\n",
      "20\n"
     ]
    }
   ],
   "source": [
    "n=10\n",
    "x= range(2,2*n+1,2)\n",
    "for i in x:\n",
    "    print(i)"
   ]
  },
  {
   "cell_type": "code",
   "execution_count": 12,
   "metadata": {},
   "outputs": [
    {
     "name": "stdout",
     "output_type": "stream",
     "text": [
      "1\n",
      "3\n",
      "5\n",
      "7\n",
      "9\n",
      "11\n",
      "13\n",
      "15\n",
      "17\n",
      "19\n"
     ]
    }
   ],
   "source": [
    "n=10\n",
    "x=range(1,2*n,2)\n",
    "for i in x:\n",
    "    print(i)"
   ]
  },
  {
   "cell_type": "code",
   "execution_count": 13,
   "metadata": {},
   "outputs": [
    {
     "name": "stdout",
     "output_type": "stream",
     "text": [
      "20\n",
      "18\n",
      "16\n",
      "14\n",
      "12\n",
      "10\n",
      "8\n",
      "6\n",
      "4\n",
      "2\n"
     ]
    }
   ],
   "source": [
    "n=10\n",
    "x=range(2*n,1,-2)\n",
    "for i in x:print(i)"
   ]
  },
  {
   "cell_type": "code",
   "execution_count": 14,
   "metadata": {},
   "outputs": [
    {
     "name": "stdout",
     "output_type": "stream",
     "text": [
      "4 x 1 = 4\n",
      "4 x 2 = 8\n",
      "4 x 3 = 12\n",
      "4 x 4 = 16\n",
      "4 x 5 = 20\n",
      "4 x 6 = 24\n",
      "4 x 7 = 28\n",
      "4 x 8 = 32\n",
      "4 x 9 = 36\n",
      "4 x 10 = 40\n"
     ]
    }
   ],
   "source": [
    "n=4\n",
    "x=range(1,11)\n",
    "for i in x:\n",
    "    print(f\"{n} x {i} = {n*i}\")"
   ]
  },
  {
   "cell_type": "code",
   "execution_count": 15,
   "metadata": {},
   "outputs": [
    {
     "name": "stdout",
     "output_type": "stream",
     "text": [
      "120\n"
     ]
    }
   ],
   "source": [
    "# 5! = 5 x 4 x 3 x 2 x 1\n",
    "fact = 1\n",
    "n=5\n",
    "for i in range(n,0,-1):\n",
    "    fact *= i\n",
    "\n",
    "print(fact)"
   ]
  },
  {
   "cell_type": "code",
   "execution_count": 17,
   "metadata": {},
   "outputs": [
    {
     "name": "stdout",
     "output_type": "stream",
     "text": [
      "Not prime\n"
     ]
    }
   ],
   "source": [
    "n=87\n",
    "prime=True\n",
    "for i in range(2,n):\n",
    "    if(n%i==0):\n",
    "        prime=False\n",
    "\n",
    "if(prime):\n",
    "    print(\"Prime\")\n",
    "else:\n",
    "    print(\"Not prime\")"
   ]
  },
  {
   "cell_type": "code",
   "execution_count": null,
   "metadata": {},
   "outputs": [],
   "source": []
  }
 ],
 "metadata": {
  "kernelspec": {
   "display_name": "Python 3",
   "language": "python",
   "name": "python3"
  },
  "language_info": {
   "codemirror_mode": {
    "name": "ipython",
    "version": 3
   },
   "file_extension": ".py",
   "mimetype": "text/x-python",
   "name": "python",
   "nbconvert_exporter": "python",
   "pygments_lexer": "ipython3",
   "version": "3.12.1"
  }
 },
 "nbformat": 4,
 "nbformat_minor": 2
}
